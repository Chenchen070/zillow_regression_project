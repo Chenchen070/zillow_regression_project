{
 "cells": [
  {
   "cell_type": "markdown",
   "id": "de4a2574",
   "metadata": {},
   "source": [
    "# Zillow Regression Project\n",
    "\n",
    "* By Chenchen feng"
   ]
  },
  {
   "cell_type": "markdown",
   "id": "b139ba51",
   "metadata": {},
   "source": [
    "## Project Goals\n",
    "\n",
    "* The goal is by analyzing 2017 single family property transaction data from Zillow, find the key drivers of property value for single family properties."
   ]
  },
  {
   "cell_type": "markdown",
   "id": "578bb67e",
   "metadata": {},
   "source": [
    "## Project Description\n",
    "\n",
    "* In this report, we will analyze the Zillow 2017 single family property transaction data, use regression machine learning method to develop a model to have a better prediction on the house value base on the selected features. Then give out the recommandations about how to improve the predictions for the future."
   ]
  },
  {
   "cell_type": "markdown",
   "id": "9083399e",
   "metadata": {},
   "source": [
    "## Initial Questions\n",
    "\n",
    "1. Is there a linear relationship between square feet and house value?\n",
    "\n",
    "2. Does bedroom count affect the house value?\n",
    "\n",
    "3. Does bathroom count affect the house value?\n",
    "\n",
    "4. Is there a relationship between fips and house value?\n",
    "\n",
    "5. Is there a relationship building year and house value?"
   ]
  },
  {
   "cell_type": "markdown",
   "id": "d706f205",
   "metadata": {},
   "source": [
    "## Data Dictionary\n",
    "\n",
    "Variables are used in this analysis:\n",
    "\n",
    "* bedroom : Number of bedrooms in home.\n",
    "* bathroom : Number of bathrooms in home including fractional bathrooms.\n",
    "* fips : Federal Information Processing Standard code.\n",
    "* yearbuilt: The Year the principal residence was built.\n",
    "* square_ft : Calculated total finished living area of the home.\n",
    "* house_value : The total tax assessed value of the parcel.\n",
    "* taxamount : The total property tax assessed for that assessment year."
   ]
  },
  {
   "cell_type": "markdown",
   "id": "396b637b",
   "metadata": {},
   "source": [
    "## Wrangle Zillow Data\n",
    "\n",
    "### To acquire the Zillow data, I used Zillow.properties_2017 database from MySQL server.\n",
    "\n",
    "* select bedroom, bathroom, square_feet, fips, yearbuilt, house_value and tax amount from zillow.properties_2017\n",
    "* left join zillow.predictions_2017 and select transaction date in 2017\n",
    "* then choose prepertylandusetypeid = 261 which is single family properties"
   ]
  },
  {
   "cell_type": "markdown",
   "id": "f2f7532d",
   "metadata": {},
   "source": [
    "### To clean the data, I did flowing steps:\n",
    "\n",
    "1. Convert data type: convert bedroom yearbuilt, square_ft and fips into.\n",
    "2. Drop the null values: percentage of null value is only 0.4%.\n",
    "3. Set up a cut off line as: bedroom <= 6, bathroom <= 6, house_value < 2,000,000."
   ]
  },
  {
   "cell_type": "code",
   "execution_count": 79,
   "id": "3b5cb193",
   "metadata": {},
   "outputs": [],
   "source": [
    "import pandas as pd\n",
    "import env\n",
    "import os"
   ]
  },
  {
   "cell_type": "code",
   "execution_count": 2,
   "id": "5fae1953",
   "metadata": {},
   "outputs": [],
   "source": [
    "def get_connection(db, username=env.username, host=env.host, password=env.password):\n",
    "    return f'mysql+pymysql://{username}:{password}@{host}/{db}'"
   ]
  },
  {
   "cell_type": "code",
   "execution_count": 3,
   "id": "20fb09f7",
   "metadata": {},
   "outputs": [],
   "source": [
    "def get_new_zillow_data():\n",
    "    \n",
    "    sql = '''\n",
    "    select \n",
    "    bedroomcnt as bedroom,bathroomcnt as bathroom, calculatedfinishedsquarefeet as square_ft,yearbuilt, fips,\n",
    "    taxvaluedollarcnt as house_value, taxamount as tax\n",
    "    FROM zillow.properties_2017\n",
    "    left join zillow.predictions_2017 using (parcelid)\n",
    "    WHERE propertylandusetypeid = 261 and transactiondate like \"2017%%\"\n",
    "    '''\n",
    "    \n",
    "    return pd.read_sql(sql, get_connection('zillow'))"
   ]
  },
  {
   "cell_type": "code",
   "execution_count": 289,
   "id": "4f998a37",
   "metadata": {},
   "outputs": [],
   "source": [
    "import acquire_zillow\n",
    "import pandas as pd\n",
    "import numpy as np\n",
    "from sklearn.model_selection import train_test_split\n",
    "import math"
   ]
  },
  {
   "cell_type": "code",
   "execution_count": 305,
   "id": "3890d627",
   "metadata": {},
   "outputs": [
    {
     "name": "stdout",
     "output_type": "stream",
     "text": [
      "<class 'pandas.core.frame.DataFrame'>\n",
      "RangeIndex: 52441 entries, 0 to 52440\n",
      "Data columns (total 7 columns):\n",
      " #   Column       Non-Null Count  Dtype  \n",
      "---  ------       --------------  -----  \n",
      " 0   bedroom      52441 non-null  float64\n",
      " 1   bathroom     52441 non-null  float64\n",
      " 2   square_ft    52359 non-null  float64\n",
      " 3   yearbuilt    52325 non-null  float64\n",
      " 4   fips         52441 non-null  float64\n",
      " 5   house_value  52440 non-null  float64\n",
      " 6   tax          52437 non-null  float64\n",
      "dtypes: float64(7)\n",
      "memory usage: 2.8 MB\n"
     ]
    }
   ],
   "source": [
    "raw_data = acquire_zillow.get_new_zillow_data()\n",
    "df = raw_data.copy()\n",
    "df.info()"
   ]
  },
  {
   "cell_type": "code",
   "execution_count": 291,
   "id": "910f8f56",
   "metadata": {},
   "outputs": [
    {
     "data": {
      "text/html": [
       "<div>\n",
       "<style scoped>\n",
       "    .dataframe tbody tr th:only-of-type {\n",
       "        vertical-align: middle;\n",
       "    }\n",
       "\n",
       "    .dataframe tbody tr th {\n",
       "        vertical-align: top;\n",
       "    }\n",
       "\n",
       "    .dataframe thead th {\n",
       "        text-align: right;\n",
       "    }\n",
       "</style>\n",
       "<table border=\"1\" class=\"dataframe\">\n",
       "  <thead>\n",
       "    <tr style=\"text-align: right;\">\n",
       "      <th></th>\n",
       "      <th>bedroom</th>\n",
       "      <th>bathroom</th>\n",
       "      <th>square_ft</th>\n",
       "      <th>yearbuilt</th>\n",
       "      <th>fips</th>\n",
       "      <th>house_value</th>\n",
       "      <th>tax</th>\n",
       "    </tr>\n",
       "  </thead>\n",
       "  <tbody>\n",
       "    <tr>\n",
       "      <th>0</th>\n",
       "      <td>4.0</td>\n",
       "      <td>3.5</td>\n",
       "      <td>3100.0</td>\n",
       "      <td>1998.0</td>\n",
       "      <td>6059.0</td>\n",
       "      <td>1023282.0</td>\n",
       "      <td>11013.72</td>\n",
       "    </tr>\n",
       "    <tr>\n",
       "      <th>1</th>\n",
       "      <td>2.0</td>\n",
       "      <td>1.0</td>\n",
       "      <td>1465.0</td>\n",
       "      <td>1967.0</td>\n",
       "      <td>6111.0</td>\n",
       "      <td>464000.0</td>\n",
       "      <td>5672.48</td>\n",
       "    </tr>\n",
       "    <tr>\n",
       "      <th>2</th>\n",
       "      <td>3.0</td>\n",
       "      <td>2.0</td>\n",
       "      <td>1243.0</td>\n",
       "      <td>1962.0</td>\n",
       "      <td>6059.0</td>\n",
       "      <td>564778.0</td>\n",
       "      <td>6488.30</td>\n",
       "    </tr>\n",
       "    <tr>\n",
       "      <th>3</th>\n",
       "      <td>4.0</td>\n",
       "      <td>3.0</td>\n",
       "      <td>2376.0</td>\n",
       "      <td>1970.0</td>\n",
       "      <td>6037.0</td>\n",
       "      <td>145143.0</td>\n",
       "      <td>1777.51</td>\n",
       "    </tr>\n",
       "    <tr>\n",
       "      <th>4</th>\n",
       "      <td>4.0</td>\n",
       "      <td>3.0</td>\n",
       "      <td>2962.0</td>\n",
       "      <td>1950.0</td>\n",
       "      <td>6037.0</td>\n",
       "      <td>773303.0</td>\n",
       "      <td>9516.26</td>\n",
       "    </tr>\n",
       "  </tbody>\n",
       "</table>\n",
       "</div>"
      ],
      "text/plain": [
       "   bedroom  bathroom  square_ft  yearbuilt    fips  house_value       tax\n",
       "0      4.0       3.5     3100.0     1998.0  6059.0    1023282.0  11013.72\n",
       "1      2.0       1.0     1465.0     1967.0  6111.0     464000.0   5672.48\n",
       "2      3.0       2.0     1243.0     1962.0  6059.0     564778.0   6488.30\n",
       "3      4.0       3.0     2376.0     1970.0  6037.0     145143.0   1777.51\n",
       "4      4.0       3.0     2962.0     1950.0  6037.0     773303.0   9516.26"
      ]
     },
     "execution_count": 291,
     "metadata": {},
     "output_type": "execute_result"
    }
   ],
   "source": [
    "df.head()"
   ]
  },
  {
   "cell_type": "code",
   "execution_count": 82,
   "id": "66b5aca4",
   "metadata": {},
   "outputs": [
    {
     "data": {
      "text/plain": [
       "bedroom          0\n",
       "bathroom         0\n",
       "square_ft       82\n",
       "yearbuilt      116\n",
       "fips             0\n",
       "house_value      1\n",
       "tax              4\n",
       "dtype: int64"
      ]
     },
     "execution_count": 82,
     "metadata": {},
     "output_type": "execute_result"
    }
   ],
   "source": [
    "df.isnull().sum()"
   ]
  },
  {
   "cell_type": "code",
   "execution_count": 306,
   "id": "e6758259",
   "metadata": {},
   "outputs": [
    {
     "data": {
      "text/plain": [
       "bedroom        0\n",
       "bathroom       0\n",
       "square_ft      0\n",
       "yearbuilt      0\n",
       "fips           0\n",
       "house_value    0\n",
       "tax            0\n",
       "dtype: int64"
      ]
     },
     "execution_count": 306,
     "metadata": {},
     "output_type": "execute_result"
    }
   ],
   "source": [
    "df = df.dropna()\n",
    "df.isnull().sum()"
   ]
  },
  {
   "cell_type": "code",
   "execution_count": 52,
   "id": "5f4d443e",
   "metadata": {},
   "outputs": [
    {
     "data": {
      "text/plain": [
       "1.0"
      ]
     },
     "execution_count": 52,
     "metadata": {},
     "output_type": "execute_result"
    }
   ],
   "source": [
    "# 100% of columns can be converted to int w/o data loss\n",
    "(df.square_ft == df.square_ft.astype(int)).mean()"
   ]
  },
  {
   "cell_type": "code",
   "execution_count": 53,
   "id": "add9ff5b",
   "metadata": {},
   "outputs": [
    {
     "data": {
      "text/plain": [
       "0.8727898308324572"
      ]
     },
     "execution_count": 53,
     "metadata": {},
     "output_type": "execute_result"
    }
   ],
   "source": [
    "(df.bathroom == df.bathroom.astype(int)).mean()"
   ]
  },
  {
   "cell_type": "code",
   "execution_count": 54,
   "id": "c177ba3e",
   "metadata": {},
   "outputs": [
    {
     "data": {
      "text/plain": [
       "1.0"
      ]
     },
     "execution_count": 54,
     "metadata": {},
     "output_type": "execute_result"
    }
   ],
   "source": [
    "(df.bedroom == df.bedroom.astype(int)).mean()"
   ]
  },
  {
   "cell_type": "markdown",
   "id": "a3afaef5",
   "metadata": {},
   "source": [
    "### convert bedroom yearbuilt, square_ft and fips into"
   ]
  },
  {
   "cell_type": "code",
   "execution_count": 307,
   "id": "3a1ec014",
   "metadata": {},
   "outputs": [],
   "source": [
    "df[['bedroom', 'square_ft','yearbuilt', 'fips']] = df[['bedroom', 'square_ft','yearbuilt', 'fips']].astype('int')\n",
    "# df[['fips']] = df[['fips']].astype('object')"
   ]
  },
  {
   "cell_type": "code",
   "execution_count": 308,
   "id": "4a42e94c",
   "metadata": {},
   "outputs": [
    {
     "name": "stdout",
     "output_type": "stream",
     "text": [
      "<class 'pandas.core.frame.DataFrame'>\n",
      "Int64Index: 52315 entries, 0 to 52440\n",
      "Data columns (total 7 columns):\n",
      " #   Column       Non-Null Count  Dtype  \n",
      "---  ------       --------------  -----  \n",
      " 0   bedroom      52315 non-null  int64  \n",
      " 1   bathroom     52315 non-null  float64\n",
      " 2   square_ft    52315 non-null  int64  \n",
      " 3   yearbuilt    52315 non-null  int64  \n",
      " 4   fips         52315 non-null  int64  \n",
      " 5   house_value  52315 non-null  float64\n",
      " 6   tax          52315 non-null  float64\n",
      "dtypes: float64(3), int64(4)\n",
      "memory usage: 3.2 MB\n"
     ]
    }
   ],
   "source": [
    "df.info()"
   ]
  },
  {
   "cell_type": "markdown",
   "id": "a3908585",
   "metadata": {},
   "source": [
    "### handling outlies"
   ]
  },
  {
   "cell_type": "code",
   "execution_count": 86,
   "id": "cff7fd54",
   "metadata": {},
   "outputs": [
    {
     "data": {
      "text/plain": [
       "4864     21929\n",
       "16571    20612\n",
       "5740     18654\n",
       "48495    17245\n",
       "28105    15450\n",
       "43724    14829\n",
       "27017    13598\n",
       "14558    12616\n",
       "49045    12056\n",
       "2789     12039\n",
       "Name: square_ft, dtype: int64"
      ]
     },
     "execution_count": 86,
     "metadata": {},
     "output_type": "execute_result"
    }
   ],
   "source": [
    "df.square_ft.sort_values(ascending=False).head(10)"
   ]
  },
  {
   "cell_type": "code",
   "execution_count": 90,
   "id": "8c2c07f2",
   "metadata": {},
   "outputs": [
    {
     "data": {
      "text/plain": [
       "0.9932141833126255"
      ]
     },
     "execution_count": 90,
     "metadata": {},
     "output_type": "execute_result"
    }
   ],
   "source": [
    "df[df.square_ft <= 6000].shape[0] / df.shape[0]"
   ]
  },
  {
   "cell_type": "code",
   "execution_count": 91,
   "id": "daebd7d3",
   "metadata": {},
   "outputs": [
    {
     "data": {
      "text/plain": [
       "4421848.359550562"
      ]
     },
     "execution_count": 91,
     "metadata": {},
     "output_type": "execute_result"
    }
   ],
   "source": [
    "df[df.square_ft >= 6000].house_value.mean()"
   ]
  },
  {
   "cell_type": "code",
   "execution_count": 23,
   "id": "155d00d9",
   "metadata": {},
   "outputs": [
    {
     "data": {
      "text/plain": [
       "3     23346\n",
       "4     15226\n",
       "2      8333\n",
       "5      3970\n",
       "6       633\n",
       "1       605\n",
       "7       106\n",
       "0        57\n",
       "8        24\n",
       "9         8\n",
       "12        3\n",
       "10        2\n",
       "14        1\n",
       "11        1\n",
       "Name: bedroom, dtype: int64"
      ]
     },
     "execution_count": 23,
     "metadata": {},
     "output_type": "execute_result"
    }
   ],
   "source": [
    "df.bedroom.value_counts()"
   ]
  },
  {
   "cell_type": "code",
   "execution_count": 100,
   "id": "f5fa6533",
   "metadata": {},
   "outputs": [
    {
     "data": {
      "text/plain": [
       "0.9972283283952977"
      ]
     },
     "execution_count": 100,
     "metadata": {},
     "output_type": "execute_result"
    }
   ],
   "source": [
    "df[df.bedroom <= 6].shape[0] / df.shape[0]"
   ]
  },
  {
   "cell_type": "code",
   "execution_count": 24,
   "id": "dbf746f5",
   "metadata": {},
   "outputs": [
    {
     "data": {
      "text/plain": [
       "2.0     21887\n",
       "3.0     10664\n",
       "1.0      9552\n",
       "2.5      3931\n",
       "4.0      2227\n",
       "3.5       913\n",
       "1.5       840\n",
       "5.0       803\n",
       "4.5       682\n",
       "6.0       322\n",
       "5.5       224\n",
       "7.0        88\n",
       "8.0        53\n",
       "6.5        47\n",
       "0.0        41\n",
       "7.5        16\n",
       "9.0        13\n",
       "10.0        5\n",
       "11.0        3\n",
       "8.5         2\n",
       "18.0        1\n",
       "13.0        1\n",
       "Name: bathroom, dtype: int64"
      ]
     },
     "execution_count": 24,
     "metadata": {},
     "output_type": "execute_result"
    }
   ],
   "source": [
    "df.bathroom.value_counts()"
   ]
  },
  {
   "cell_type": "code",
   "execution_count": 101,
   "id": "0e6f1bfc",
   "metadata": {},
   "outputs": [
    {
     "data": {
      "text/plain": [
       "0.9956226703622288"
      ]
     },
     "execution_count": 101,
     "metadata": {},
     "output_type": "execute_result"
    }
   ],
   "source": [
    "df[df.bathroom <= 6].shape[0] / df.shape[0]"
   ]
  },
  {
   "cell_type": "code",
   "execution_count": 138,
   "id": "0539a54a",
   "metadata": {},
   "outputs": [
    {
     "data": {
      "text/plain": [
       "0.9737360221733729"
      ]
     },
     "execution_count": 138,
     "metadata": {},
     "output_type": "execute_result"
    }
   ],
   "source": [
    "df[df.house_value < 2000000].shape[0] / df.shape[0]"
   ]
  },
  {
   "cell_type": "code",
   "execution_count": 102,
   "id": "c2b692d0",
   "metadata": {},
   "outputs": [
    {
     "data": {
      "text/plain": [
       "(52315, 7)"
      ]
     },
     "execution_count": 102,
     "metadata": {},
     "output_type": "execute_result"
    }
   ],
   "source": [
    "df.shape"
   ]
  },
  {
   "cell_type": "code",
   "execution_count": 309,
   "id": "4c8d11f9",
   "metadata": {},
   "outputs": [],
   "source": [
    "df = df[df.bedroom <= 6]\n",
    "\n",
    "df = df[df.bathroom <= 6]\n",
    "\n",
    "df = df[df.house_value < 2000000]"
   ]
  },
  {
   "cell_type": "code",
   "execution_count": 265,
   "id": "e9d698e4",
   "metadata": {},
   "outputs": [
    {
     "data": {
      "text/plain": [
       "(50789, 7)"
      ]
     },
     "execution_count": 265,
     "metadata": {},
     "output_type": "execute_result"
    }
   ],
   "source": [
    "df.shape"
   ]
  },
  {
   "cell_type": "code",
   "execution_count": 141,
   "id": "cb3a0817",
   "metadata": {
    "scrolled": true
   },
   "outputs": [
    {
     "name": "stdout",
     "output_type": "stream",
     "text": [
      "bedroom\n"
     ]
    },
    {
     "data": {
      "image/png": "[encoded data removed]",
      "text/plain": [
       "<Figure size 432x288 with 1 Axes>"
      ]
     },
     "metadata": {
      "needs_background": "light"
     },
     "output_type": "display_data"
    },
    {
     "name": "stdout",
     "output_type": "stream",
     "text": [
      "bathroom\n"
     ]
    },
    {
     "data": {
      "image/png": "[encoded data removed]",
      "text/plain": [
       "<Figure size 432x288 with 1 Axes>"
      ]
     },
     "metadata": {
      "needs_background": "light"
     },
     "output_type": "display_data"
    },
    {
     "name": "stdout",
     "output_type": "stream",
     "text": [
      "square_ft\n"
     ]
    },
    {
     "data": {
      "image/png": "[encoded data removed]",
      "text/plain": [
       "<Figure size 432x288 with 1 Axes>"
      ]
     },
     "metadata": {
      "needs_background": "light"
     },
     "output_type": "display_data"
    },
    {
     "name": "stdout",
     "output_type": "stream",
     "text": [
      "yearbuilt\n"
     ]
    },
    {
     "data": {
      "image/png": "[encoded data removed]",
      "text/plain": [
       "<Figure size 432x288 with 1 Axes>"
      ]
     },
     "metadata": {
      "needs_background": "light"
     },
     "output_type": "display_data"
    },
    {
     "name": "stdout",
     "output_type": "stream",
     "text": [
      "fips\n"
     ]
    },
    {
     "data": {
      "image/png": "[encoded data removed]",
      "text/plain": [
       "<Figure size 432x288 with 1 Axes>"
      ]
     },
     "metadata": {
      "needs_background": "light"
     },
     "output_type": "display_data"
    },
    {
     "name": "stdout",
     "output_type": "stream",
     "text": [
      "house_value\n"
     ]
    },
    {
     "data": {
      "image/png": "[encoded data removed]",
      "text/plain": [
       "<Figure size 432x288 with 1 Axes>"
      ]
     },
     "metadata": {
      "needs_background": "light"
     },
     "output_type": "display_data"
    },
    {
     "name": "stdout",
     "output_type": "stream",
     "text": [
      "tax\n"
     ]
    },
    {
     "data": {
      "image/png": "[encoded data removed]",
      "text/plain": [
       "<Figure size 432x288 with 1 Axes>"
      ]
     },
     "metadata": {
      "needs_background": "light"
     },
     "output_type": "display_data"
    }
   ],
   "source": [
    "import seaborn as sns\n",
    "import matplotlib.pyplot as plt\n",
    "\n",
    "for col in df.columns:\n",
    "    print(col)\n",
    "    df[col].hist(bins=50)\n",
    "    plt.show()"
   ]
  },
  {
   "cell_type": "markdown",
   "id": "39845f63",
   "metadata": {},
   "source": [
    "### drop the outlies: square_ft > 6000, bathroom > 6 and bedroom > 6"
   ]
  },
  {
   "cell_type": "code",
   "execution_count": 142,
   "id": "cf05b0f9",
   "metadata": {},
   "outputs": [],
   "source": [
    "# create a function to wrangle zillow data:\n",
    "\n",
    "def wrangle_zillow():\n",
    "    raw_data = acquire_zillow.get_new_zillow_data()\n",
    "    df = raw_data.copy()\n",
    "    df = df.dropna()\n",
    "    df[['bedroom', 'square_ft','yearbuilt']] = df[['bedroom', 'square_ft','yearbuilt']].astype('int')\n",
    "    df[['fips']] = df[['fips']].astype('object')\n",
    "    \n",
    "    df = df[df.bedroom <= 6]\n",
    "    df = df[df.bathroom <= 6]\n",
    "    df = df[df.house_value < 2000000]\n",
    "    \n",
    "    return df"
   ]
  },
  {
   "cell_type": "code",
   "execution_count": null,
   "id": "29f4c818",
   "metadata": {},
   "outputs": [],
   "source": []
  },
  {
   "cell_type": "code",
   "execution_count": 144,
   "id": "dadb2c07",
   "metadata": {},
   "outputs": [
    {
     "name": "stdout",
     "output_type": "stream",
     "text": [
      "<class 'pandas.core.frame.DataFrame'>\n",
      "Int64Index: 50789 entries, 0 to 52440\n",
      "Data columns (total 7 columns):\n",
      " #   Column       Non-Null Count  Dtype  \n",
      "---  ------       --------------  -----  \n",
      " 0   bedroom      50789 non-null  int64  \n",
      " 1   bathroom     50789 non-null  float64\n",
      " 2   square_ft    50789 non-null  int64  \n",
      " 3   yearbuilt    50789 non-null  int64  \n",
      " 4   fips         50789 non-null  object \n",
      " 5   house_value  50789 non-null  float64\n",
      " 6   tax          50789 non-null  float64\n",
      "dtypes: float64(3), int64(3), object(1)\n",
      "memory usage: 3.1+ MB\n"
     ]
    }
   ],
   "source": [
    "# test the function\n",
    "df1 = wrangle_zillow()\n",
    "df1.info()"
   ]
  },
  {
   "cell_type": "code",
   "execution_count": 327,
   "id": "41a94c12",
   "metadata": {},
   "outputs": [],
   "source": [
    "# split data\n",
    "\n",
    "train_and_validate, test = train_test_split(df, test_size=0.2, random_state=123)\n",
    "train, validate = train_test_split(train_and_validate, test_size=0.3, random_state=123)"
   ]
  },
  {
   "cell_type": "code",
   "execution_count": 328,
   "id": "1d8985ff",
   "metadata": {},
   "outputs": [
    {
     "data": {
      "text/plain": [
       "((28441, 7), (12190, 7), (10158, 7))"
      ]
     },
     "execution_count": 328,
     "metadata": {},
     "output_type": "execute_result"
    }
   ],
   "source": [
    "train.shape, validate.shape, test.shape"
   ]
  },
  {
   "cell_type": "code",
   "execution_count": null,
   "id": "b364e855",
   "metadata": {},
   "outputs": [],
   "source": [
    "def split_zillow(df):\n",
    "    \n",
    "    train_and_validate, test = train_test_split(df, test_size=0.2, random_state=123)\n",
    "    train, validate = train_test_split(train_and_validate, test_size=0.5, random_state=123)\n",
    "    \n",
    "    return train, validate, test"
   ]
  },
  {
   "cell_type": "markdown",
   "id": "5610e44c",
   "metadata": {},
   "source": [
    "## Data Context"
   ]
  },
  {
   "cell_type": "code",
   "execution_count": 209,
   "id": "0a2fe40f",
   "metadata": {},
   "outputs": [
    {
     "data": {
      "text/plain": [
       "<seaborn.axisgrid.FacetGrid at 0x7ff140aaa5e0>"
      ]
     },
     "execution_count": 209,
     "metadata": {},
     "output_type": "execute_result"
    },
    {
     "data": {
      "image/png": "[encoded data removed]",
      "text/plain": [
       "<Figure size 360x360 with 1 Axes>"
      ]
     },
     "metadata": {
      "needs_background": "light"
     },
     "output_type": "display_data"
    }
   ],
   "source": [
    "sns.displot(x = 'house_value', data = train, kde=True, color='red',\n",
    "            line_kws={'lw': 3}, facecolor='lime', edgecolor='black')"
   ]
  },
  {
   "cell_type": "code",
   "execution_count": 207,
   "id": "c22d32ae",
   "metadata": {},
   "outputs": [
    {
     "data": {
      "text/plain": [
       "<AxesSubplot:xlabel='house_value', ylabel='Count'>"
      ]
     },
     "execution_count": 207,
     "metadata": {},
     "output_type": "execute_result"
    },
    {
     "data": {
      "image/png": "[encoded data removed]",
      "text/plain": [
       "<Figure size 432x288 with 1 Axes>"
      ]
     },
     "metadata": {
      "needs_background": "light"
     },
     "output_type": "display_data"
    }
   ],
   "source": [
    "sns.histplot(x = 'house_value', bins = 20, data = train, kde=True)"
   ]
  },
  {
   "cell_type": "code",
   "execution_count": 187,
   "id": "e90428bb",
   "metadata": {},
   "outputs": [
    {
     "data": {
      "text/plain": [
       "<AxesSubplot:xlabel='fips', ylabel='count'>"
      ]
     },
     "execution_count": 187,
     "metadata": {},
     "output_type": "execute_result"
    },
    {
     "data": {
      "image/png": "[encoded data removed]",
      "text/plain": [
       "<Figure size 1800x864 with 4 Axes>"
      ]
     },
     "metadata": {
      "needs_background": "light"
     },
     "output_type": "display_data"
    }
   ],
   "source": [
    "figure, axes = plt.subplots(1,4, figsize=(25,12))\n",
    "    \n",
    "sns.countplot(x='bedroom', data=train, ax=axes[0])\n",
    "sns.countplot(x='bathroom', data=train, ax=axes[1])\n",
    "sns.histplot(x='yearbuilt', bins = 10, data=train, ax=axes[2])\n",
    "sns.countplot(x='fips', data=train, ax=axes[3])"
   ]
  },
  {
   "cell_type": "markdown",
   "id": "4a5dab37",
   "metadata": {},
   "source": [
    "# Exploration Data (on train set)"
   ]
  },
  {
   "cell_type": "code",
   "execution_count": 147,
   "id": "e0ddd5ea",
   "metadata": {},
   "outputs": [],
   "source": [
    "import warnings\n",
    "warnings.filterwarnings(\"ignore\")\n",
    "import matplotlib.pyplot as plt\n",
    "import seaborn as sns\n",
    "from scipy.stats import pearsonr, spearmanr"
   ]
  },
  {
   "cell_type": "markdown",
   "id": "f2eb3338",
   "metadata": {},
   "source": [
    "### * relationship between house value and bedroom, bathroom, fips"
   ]
  },
  {
   "cell_type": "code",
   "execution_count": 148,
   "id": "baa62d6b",
   "metadata": {},
   "outputs": [
    {
     "data": {
      "image/png": "[encoded data removed]",
      "text/plain": [
       "<Figure size 1440x720 with 3 Axes>"
      ]
     },
     "metadata": {
      "needs_background": "light"
     },
     "output_type": "display_data"
    }
   ],
   "source": [
    "figure, axes = plt.subplots(1,3, sharey = True, figsize=(20,10))\n",
    "    \n",
    "sns.boxplot(x='bedroom', y='house_value', data=train, ax=axes[0])\n",
    "sns.boxplot(x='bathroom', y='house_value', data=train, ax=axes[1])\n",
    "sns.barplot(x='fips', y='house_value', data=train, ax=axes[2])\n",
    "\n",
    "plt.show()"
   ]
  },
  {
   "cell_type": "markdown",
   "id": "63f6d6af",
   "metadata": {},
   "source": [
    "* house value increases with bedroom counts and bathroom counts\n",
    "* when bathroom count > 2, the half bathroom house value is higher then full bath\n",
    "* fips number 6059 has the highest house value, then 6111, then 6037"
   ]
  },
  {
   "cell_type": "markdown",
   "id": "350c19ea",
   "metadata": {},
   "source": [
    "### * relationship between house value and yearbuilt and suqre feet"
   ]
  },
  {
   "cell_type": "code",
   "execution_count": 152,
   "id": "c9d6a630",
   "metadata": {},
   "outputs": [
    {
     "data": {
      "text/plain": [
       "<seaborn.axisgrid.JointGrid at 0x7ff156604a00>"
      ]
     },
     "execution_count": 152,
     "metadata": {},
     "output_type": "execute_result"
    },
    {
     "data": {
      "image/png": "[encoded data removed]",
      "text/plain": [
       "<Figure size 576x576 with 3 Axes>"
      ]
     },
     "metadata": {
      "needs_background": "light"
     },
     "output_type": "display_data"
    }
   ],
   "source": [
    "sns.jointplot(x='yearbuilt', y='house_value', data=train, kind='reg', line_kws={'color': 'red'}, height=8)"
   ]
  },
  {
   "cell_type": "code",
   "execution_count": 157,
   "id": "677d08ac",
   "metadata": {},
   "outputs": [
    {
     "data": {
      "text/plain": [
       "<seaborn.axisgrid.JointGrid at 0x7ff1566744f0>"
      ]
     },
     "execution_count": 157,
     "metadata": {},
     "output_type": "execute_result"
    },
    {
     "data": {
      "image/png": "[encoded data removed]",
      "text/plain": [
       "<Figure size 576x576 with 3 Axes>"
      ]
     },
     "metadata": {
      "needs_background": "light"
     },
     "output_type": "display_data"
    }
   ],
   "source": [
    "sns.jointplot(\"square_ft\", \"house_value\", data=train, kind='reg', line_kws={'color': 'red'},height=8)"
   ]
  },
  {
   "cell_type": "markdown",
   "id": "f67c568e",
   "metadata": {},
   "source": [
    "* The house value increases with built year and square feet"
   ]
  },
  {
   "cell_type": "markdown",
   "id": "34ad0e2c",
   "metadata": {},
   "source": [
    "### Statistic Test for square feet, year built, bedroom and bathroom"
   ]
  },
  {
   "cell_type": "code",
   "execution_count": 158,
   "id": "c91099ff",
   "metadata": {},
   "outputs": [
    {
     "name": "stdout",
     "output_type": "stream",
     "text": [
      "Correlation Coefficient by Pearson Test: 0.5751863413849152, p-value: 0.0\n",
      "We can reject the null hypothesis\n"
     ]
    }
   ],
   "source": [
    "# square feet\n",
    "\n",
    "r, p_value = pearsonr(train.square_ft, train.house_value)\n",
    "print(f'Correlation Coefficient by Pearson Test: {r}, p-value: {p_value}')\n",
    "\n",
    "# set alpha : 0.05\n",
    "if p_value < 0.05:\n",
    "    print('We can reject the null hypothesis')\n",
    "else:\n",
    "    print('we cannot reject the null hypothesis')"
   ]
  },
  {
   "cell_type": "code",
   "execution_count": 159,
   "id": "c35a4271",
   "metadata": {},
   "outputs": [
    {
     "name": "stdout",
     "output_type": "stream",
     "text": [
      "Correlation Coefficient by Pearson Test: 0.24615026349629532, p-value: 0.0\n",
      "We can reject the null hypothesis\n"
     ]
    }
   ],
   "source": [
    "# yearbuilt\n",
    "\n",
    "r, p_value = pearsonr(train.yearbuilt, train.house_value)\n",
    "print(f'Correlation Coefficient by Pearson Test: {r}, p-value: {p_value}')\n",
    "\n",
    "# set alpha : 0.05\n",
    "if p_value < 0.05:\n",
    "    print('We can reject the null hypothesis')\n",
    "else:\n",
    "    print('we cannot reject the null hypothesis')"
   ]
  },
  {
   "cell_type": "code",
   "execution_count": 160,
   "id": "1cafe660",
   "metadata": {},
   "outputs": [
    {
     "name": "stdout",
     "output_type": "stream",
     "text": [
      "Correlation Coefficient by Pearson Test: 0.5059406210390505, p-value: 0.0\n",
      "We can reject the null hypothesis\n"
     ]
    }
   ],
   "source": [
    "# bathroom\n",
    "\n",
    "r, p_value = pearsonr(train.bathroom, train.house_value)\n",
    "print(f'Correlation Coefficient by Pearson Test: {r}, p-value: {p_value}')\n",
    "\n",
    "# set alpha : 0.05\n",
    "if p_value < 0.05:\n",
    "    print('We can reject the null hypothesis')\n",
    "else:\n",
    "    print('we cannot reject the null hypothesis')"
   ]
  },
  {
   "cell_type": "code",
   "execution_count": 161,
   "id": "972048f0",
   "metadata": {},
   "outputs": [
    {
     "name": "stdout",
     "output_type": "stream",
     "text": [
      "Correlation Coefficient by Pearson Test: 0.275041838330826, p-value: 0.0\n",
      "We can reject the null hypothesis\n"
     ]
    }
   ],
   "source": [
    "# bedroom\n",
    "\n",
    "r, p_value = pearsonr(train.bedroom, train.house_value)\n",
    "print(f'Correlation Coefficient by Pearson Test: {r}, p-value: {p_value}')\n",
    "\n",
    "# set alpha : 0.05\n",
    "if p_value < 0.05:\n",
    "    print('We can reject the null hypothesis')\n",
    "else:\n",
    "    print('we cannot reject the null hypothesis')"
   ]
  },
  {
   "cell_type": "code",
   "execution_count": 311,
   "id": "b3227056",
   "metadata": {},
   "outputs": [
    {
     "data": {
      "text/html": [
       "<div>\n",
       "<style scoped>\n",
       "    .dataframe tbody tr th:only-of-type {\n",
       "        vertical-align: middle;\n",
       "    }\n",
       "\n",
       "    .dataframe tbody tr th {\n",
       "        vertical-align: top;\n",
       "    }\n",
       "\n",
       "    .dataframe thead th {\n",
       "        text-align: right;\n",
       "    }\n",
       "</style>\n",
       "<table border=\"1\" class=\"dataframe\">\n",
       "  <thead>\n",
       "    <tr style=\"text-align: right;\">\n",
       "      <th></th>\n",
       "      <th>bedroom</th>\n",
       "      <th>bathroom</th>\n",
       "      <th>square_ft</th>\n",
       "      <th>yearbuilt</th>\n",
       "      <th>fips</th>\n",
       "      <th>house_value</th>\n",
       "      <th>tax</th>\n",
       "    </tr>\n",
       "  </thead>\n",
       "  <tbody>\n",
       "    <tr>\n",
       "      <th>bedroom</th>\n",
       "      <td>1.000000</td>\n",
       "      <td>0.631978</td>\n",
       "      <td>0.629571</td>\n",
       "      <td>0.396960</td>\n",
       "      <td>0.150663</td>\n",
       "      <td>0.275042</td>\n",
       "      <td>0.277939</td>\n",
       "    </tr>\n",
       "    <tr>\n",
       "      <th>bathroom</th>\n",
       "      <td>0.631978</td>\n",
       "      <td>1.000000</td>\n",
       "      <td>0.828338</td>\n",
       "      <td>0.549147</td>\n",
       "      <td>0.127648</td>\n",
       "      <td>0.505941</td>\n",
       "      <td>0.509496</td>\n",
       "    </tr>\n",
       "    <tr>\n",
       "      <th>square_ft</th>\n",
       "      <td>0.629571</td>\n",
       "      <td>0.828338</td>\n",
       "      <td>1.000000</td>\n",
       "      <td>0.490245</td>\n",
       "      <td>0.144451</td>\n",
       "      <td>0.575186</td>\n",
       "      <td>0.575026</td>\n",
       "    </tr>\n",
       "    <tr>\n",
       "      <th>yearbuilt</th>\n",
       "      <td>0.396960</td>\n",
       "      <td>0.549147</td>\n",
       "      <td>0.490245</td>\n",
       "      <td>1.000000</td>\n",
       "      <td>0.295265</td>\n",
       "      <td>0.246150</td>\n",
       "      <td>0.260797</td>\n",
       "    </tr>\n",
       "    <tr>\n",
       "      <th>fips</th>\n",
       "      <td>0.150663</td>\n",
       "      <td>0.127648</td>\n",
       "      <td>0.144451</td>\n",
       "      <td>0.295265</td>\n",
       "      <td>1.000000</td>\n",
       "      <td>0.095237</td>\n",
       "      <td>0.046643</td>\n",
       "    </tr>\n",
       "    <tr>\n",
       "      <th>house_value</th>\n",
       "      <td>0.275042</td>\n",
       "      <td>0.505941</td>\n",
       "      <td>0.575186</td>\n",
       "      <td>0.246150</td>\n",
       "      <td>0.095237</td>\n",
       "      <td>1.000000</td>\n",
       "      <td>0.970493</td>\n",
       "    </tr>\n",
       "    <tr>\n",
       "      <th>tax</th>\n",
       "      <td>0.277939</td>\n",
       "      <td>0.509496</td>\n",
       "      <td>0.575026</td>\n",
       "      <td>0.260797</td>\n",
       "      <td>0.046643</td>\n",
       "      <td>0.970493</td>\n",
       "      <td>1.000000</td>\n",
       "    </tr>\n",
       "  </tbody>\n",
       "</table>\n",
       "</div>"
      ],
      "text/plain": [
       "              bedroom  bathroom  square_ft  yearbuilt      fips  house_value  \\\n",
       "bedroom      1.000000  0.631978   0.629571   0.396960  0.150663     0.275042   \n",
       "bathroom     0.631978  1.000000   0.828338   0.549147  0.127648     0.505941   \n",
       "square_ft    0.629571  0.828338   1.000000   0.490245  0.144451     0.575186   \n",
       "yearbuilt    0.396960  0.549147   0.490245   1.000000  0.295265     0.246150   \n",
       "fips         0.150663  0.127648   0.144451   0.295265  1.000000     0.095237   \n",
       "house_value  0.275042  0.505941   0.575186   0.246150  0.095237     1.000000   \n",
       "tax          0.277939  0.509496   0.575026   0.260797  0.046643     0.970493   \n",
       "\n",
       "                  tax  \n",
       "bedroom      0.277939  \n",
       "bathroom     0.509496  \n",
       "square_ft    0.575026  \n",
       "yearbuilt    0.260797  \n",
       "fips         0.046643  \n",
       "house_value  0.970493  \n",
       "tax          1.000000  "
      ]
     },
     "execution_count": 311,
     "metadata": {},
     "output_type": "execute_result"
    }
   ],
   "source": [
    "train_sample_corr = train.corr(method='pearson')\n",
    "train_sample_corr"
   ]
  },
  {
   "cell_type": "code",
   "execution_count": 312,
   "id": "1aaa328b",
   "metadata": {},
   "outputs": [
    {
     "data": {
      "text/plain": [
       "<AxesSubplot:>"
      ]
     },
     "execution_count": 312,
     "metadata": {},
     "output_type": "execute_result"
    },
    {
     "data": {
      "image/png": "[encoded data removed]",
      "text/plain": [
       "<Figure size 576x432 with 2 Axes>"
      ]
     },
     "metadata": {
      "needs_background": "light"
     },
     "output_type": "display_data"
    }
   ],
   "source": [
    "plt.figure(figsize=(8,6))\n",
    "correlation_table = train.corr()\n",
    "sns.heatmap(correlation_table, cmap='Purples', annot=True)"
   ]
  },
  {
   "cell_type": "markdown",
   "id": "f5693417",
   "metadata": {},
   "source": [
    "### top three features:\n",
    "* bathroom = 0.51\n",
    "* square_feet = 0.58\n",
    "* bedroom = 0.28"
   ]
  },
  {
   "cell_type": "markdown",
   "id": "24bb633b",
   "metadata": {},
   "source": [
    "## Exploration Summary:\n",
    "\n",
    "* Bathroom number and square feet haave the strongest relationship with house value, therefore, I will use those two features for my modeling."
   ]
  },
  {
   "cell_type": "markdown",
   "id": "b1f7a20f",
   "metadata": {},
   "source": [
    "# Modeling"
   ]
  },
  {
   "cell_type": "code",
   "execution_count": 329,
   "id": "9bf4a5c1",
   "metadata": {},
   "outputs": [
    {
     "data": {
      "text/plain": [
       "(array([7529., 8132., 5898., 3076., 1595.,  861.,  522.,  371.,  265.,\n",
       "         192.]),\n",
       " array([1.0000000e+03, 2.0062510e+05, 4.0025020e+05, 5.9987530e+05,\n",
       "        7.9950040e+05, 9.9912550e+05, 1.1987506e+06, 1.3983757e+06,\n",
       "        1.5980008e+06, 1.7976259e+06, 1.9972510e+06]),\n",
       " <BarContainer object of 10 artists>)"
      ]
     },
     "execution_count": 329,
     "metadata": {},
     "output_type": "execute_result"
    },
    {
     "data": {
      "image/png": "[encoded data removed]",
      "text/plain": [
       "<Figure size 432x288 with 1 Axes>"
      ]
     },
     "metadata": {
      "needs_background": "light"
     },
     "output_type": "display_data"
    }
   ],
   "source": [
    "#Visualize my target variable\n",
    "plt.hist(train.house_value)"
   ]
  },
  {
   "cell_type": "code",
   "execution_count": 330,
   "id": "1d31970e",
   "metadata": {},
   "outputs": [
    {
     "name": "stdout",
     "output_type": "stream",
     "text": [
      "Train baseline RMSE: 354300.374389348.\n",
      "Validation baseline RMSE: 347942.07118664036.\n"
     ]
    }
   ],
   "source": [
    "#Establish baselines for the train and validation subsets\n",
    "from math import sqrt\n",
    "from sklearn.metrics import mean_squared_error\n",
    "\n",
    "baseline = train.house_value.mean()\n",
    "\n",
    "train['baseline'] = baseline\n",
    "validate['baseline'] = baseline\n",
    "\n",
    "train_rmse = sqrt(mean_squared_error(train.house_value, train.baseline))\n",
    "validate_rmse = sqrt(mean_squared_error(validate.house_value, validate.baseline))\n",
    "\n",
    "print('Train baseline RMSE: {}.'.format(train_rmse))\n",
    "print('Validation baseline RMSE: {}.'.format(validate_rmse))"
   ]
  },
  {
   "cell_type": "code",
   "execution_count": 332,
   "id": "8cf47bb1",
   "metadata": {},
   "outputs": [
    {
     "data": {
      "text/html": [
       "<div>\n",
       "<style scoped>\n",
       "    .dataframe tbody tr th:only-of-type {\n",
       "        vertical-align: middle;\n",
       "    }\n",
       "\n",
       "    .dataframe tbody tr th {\n",
       "        vertical-align: top;\n",
       "    }\n",
       "\n",
       "    .dataframe thead th {\n",
       "        text-align: right;\n",
       "    }\n",
       "</style>\n",
       "<table border=\"1\" class=\"dataframe\">\n",
       "  <thead>\n",
       "    <tr style=\"text-align: right;\">\n",
       "      <th></th>\n",
       "      <th>bedroom</th>\n",
       "      <th>bathroom</th>\n",
       "      <th>square_ft</th>\n",
       "      <th>yearbuilt</th>\n",
       "      <th>fips</th>\n",
       "      <th>house_value</th>\n",
       "      <th>tax</th>\n",
       "      <th>baseline</th>\n",
       "    </tr>\n",
       "  </thead>\n",
       "  <tbody>\n",
       "    <tr>\n",
       "      <th>8365</th>\n",
       "      <td>3</td>\n",
       "      <td>2.0</td>\n",
       "      <td>1605</td>\n",
       "      <td>1983</td>\n",
       "      <td>6111</td>\n",
       "      <td>206483.0</td>\n",
       "      <td>2293.70</td>\n",
       "      <td>444839.029886</td>\n",
       "    </tr>\n",
       "    <tr>\n",
       "      <th>46472</th>\n",
       "      <td>2</td>\n",
       "      <td>1.0</td>\n",
       "      <td>1521</td>\n",
       "      <td>1970</td>\n",
       "      <td>6037</td>\n",
       "      <td>110048.0</td>\n",
       "      <td>1530.47</td>\n",
       "      <td>444839.029886</td>\n",
       "    </tr>\n",
       "    <tr>\n",
       "      <th>45202</th>\n",
       "      <td>3</td>\n",
       "      <td>2.0</td>\n",
       "      <td>1678</td>\n",
       "      <td>1956</td>\n",
       "      <td>6059</td>\n",
       "      <td>82423.0</td>\n",
       "      <td>1175.02</td>\n",
       "      <td>444839.029886</td>\n",
       "    </tr>\n",
       "    <tr>\n",
       "      <th>1123</th>\n",
       "      <td>3</td>\n",
       "      <td>1.5</td>\n",
       "      <td>1126</td>\n",
       "      <td>1955</td>\n",
       "      <td>6059</td>\n",
       "      <td>373151.0</td>\n",
       "      <td>4521.78</td>\n",
       "      <td>444839.029886</td>\n",
       "    </tr>\n",
       "    <tr>\n",
       "      <th>14047</th>\n",
       "      <td>4</td>\n",
       "      <td>6.0</td>\n",
       "      <td>5158</td>\n",
       "      <td>2002</td>\n",
       "      <td>6037</td>\n",
       "      <td>1430885.0</td>\n",
       "      <td>17415.28</td>\n",
       "      <td>444839.029886</td>\n",
       "    </tr>\n",
       "  </tbody>\n",
       "</table>\n",
       "</div>"
      ],
      "text/plain": [
       "       bedroom  bathroom  square_ft  yearbuilt  fips  house_value       tax  \\\n",
       "8365         3       2.0       1605       1983  6111     206483.0   2293.70   \n",
       "46472        2       1.0       1521       1970  6037     110048.0   1530.47   \n",
       "45202        3       2.0       1678       1956  6059      82423.0   1175.02   \n",
       "1123         3       1.5       1126       1955  6059     373151.0   4521.78   \n",
       "14047        4       6.0       5158       2002  6037    1430885.0  17415.28   \n",
       "\n",
       "            baseline  \n",
       "8365   444839.029886  \n",
       "46472  444839.029886  \n",
       "45202  444839.029886  \n",
       "1123   444839.029886  \n",
       "14047  444839.029886  "
      ]
     },
     "execution_count": 332,
     "metadata": {},
     "output_type": "execute_result"
    }
   ],
   "source": [
    "train.head()"
   ]
  },
  {
   "cell_type": "code",
   "execution_count": 397,
   "id": "4ad89a78",
   "metadata": {},
   "outputs": [],
   "source": [
    "x_train = train.drop(columns=['house_value','tax', 'yearbuilt', 'fips', 'baseline'])\n",
    "y_train = train[['house_value']]\n",
    "\n",
    "x_validate = validate.drop(columns=['house_value','tax', 'yearbuilt', 'fips', 'baseline'])\n",
    "y_validate = validate[['house_value']]\n",
    "\n",
    "x_test = test.drop(columns=['house_value','tax', 'yearbuilt', 'fips'])\n",
    "y_test = test[['house_value']]"
   ]
  },
  {
   "cell_type": "code",
   "execution_count": 398,
   "id": "432a171b",
   "metadata": {},
   "outputs": [
    {
     "data": {
      "text/html": [
       "<div>\n",
       "<style scoped>\n",
       "    .dataframe tbody tr th:only-of-type {\n",
       "        vertical-align: middle;\n",
       "    }\n",
       "\n",
       "    .dataframe tbody tr th {\n",
       "        vertical-align: top;\n",
       "    }\n",
       "\n",
       "    .dataframe thead th {\n",
       "        text-align: right;\n",
       "    }\n",
       "</style>\n",
       "<table border=\"1\" class=\"dataframe\">\n",
       "  <thead>\n",
       "    <tr style=\"text-align: right;\">\n",
       "      <th></th>\n",
       "      <th>bedroom</th>\n",
       "      <th>bathroom</th>\n",
       "      <th>square_ft</th>\n",
       "    </tr>\n",
       "  </thead>\n",
       "  <tbody>\n",
       "    <tr>\n",
       "      <th>8365</th>\n",
       "      <td>3</td>\n",
       "      <td>2.0</td>\n",
       "      <td>1605</td>\n",
       "    </tr>\n",
       "    <tr>\n",
       "      <th>46472</th>\n",
       "      <td>2</td>\n",
       "      <td>1.0</td>\n",
       "      <td>1521</td>\n",
       "    </tr>\n",
       "    <tr>\n",
       "      <th>45202</th>\n",
       "      <td>3</td>\n",
       "      <td>2.0</td>\n",
       "      <td>1678</td>\n",
       "    </tr>\n",
       "    <tr>\n",
       "      <th>1123</th>\n",
       "      <td>3</td>\n",
       "      <td>1.5</td>\n",
       "      <td>1126</td>\n",
       "    </tr>\n",
       "    <tr>\n",
       "      <th>14047</th>\n",
       "      <td>4</td>\n",
       "      <td>6.0</td>\n",
       "      <td>5158</td>\n",
       "    </tr>\n",
       "  </tbody>\n",
       "</table>\n",
       "</div>"
      ],
      "text/plain": [
       "       bedroom  bathroom  square_ft\n",
       "8365         3       2.0       1605\n",
       "46472        2       1.0       1521\n",
       "45202        3       2.0       1678\n",
       "1123         3       1.5       1126\n",
       "14047        4       6.0       5158"
      ]
     },
     "execution_count": 398,
     "metadata": {},
     "output_type": "execute_result"
    }
   ],
   "source": [
    "x_train.head()"
   ]
  },
  {
   "cell_type": "code",
   "execution_count": 399,
   "id": "5c74a931",
   "metadata": {},
   "outputs": [],
   "source": [
    "# scale the data\n",
    "\n",
    "mms = sklearn.preprocessing.MinMaxScaler()\n",
    "\n",
    "mms.fit(x_train[['bedroom','bathroom','square_ft']])\n",
    "\n",
    "x_train[['bedroom','bathroom','square_ft']] = mms.transform(x_train[['bedroom','bathroom','square_ft']])\n",
    "\n",
    "x_validate[['bedroom','bathroom','square_ft']] = mms.transform(x_validate[['bedroom','bathroom','square_ft']])\n",
    "\n",
    "x_test[['bedroom','bathroom','square_ft']] = mms.transform(x_test[['bedroom','bathroom','square_ft']])"
   ]
  },
  {
   "cell_type": "code",
   "execution_count": 400,
   "id": "bf4ea9b6",
   "metadata": {},
   "outputs": [
    {
     "data": {
      "text/html": [
       "<div>\n",
       "<style scoped>\n",
       "    .dataframe tbody tr th:only-of-type {\n",
       "        vertical-align: middle;\n",
       "    }\n",
       "\n",
       "    .dataframe tbody tr th {\n",
       "        vertical-align: top;\n",
       "    }\n",
       "\n",
       "    .dataframe thead th {\n",
       "        text-align: right;\n",
       "    }\n",
       "</style>\n",
       "<table border=\"1\" class=\"dataframe\">\n",
       "  <thead>\n",
       "    <tr style=\"text-align: right;\">\n",
       "      <th></th>\n",
       "      <th>bedroom</th>\n",
       "      <th>bathroom</th>\n",
       "      <th>square_ft</th>\n",
       "    </tr>\n",
       "  </thead>\n",
       "  <tbody>\n",
       "    <tr>\n",
       "      <th>8365</th>\n",
       "      <td>0.500000</td>\n",
       "      <td>0.333333</td>\n",
       "      <td>0.171689</td>\n",
       "    </tr>\n",
       "    <tr>\n",
       "      <th>46472</th>\n",
       "      <td>0.333333</td>\n",
       "      <td>0.166667</td>\n",
       "      <td>0.161763</td>\n",
       "    </tr>\n",
       "    <tr>\n",
       "      <th>45202</th>\n",
       "      <td>0.500000</td>\n",
       "      <td>0.333333</td>\n",
       "      <td>0.180314</td>\n",
       "    </tr>\n",
       "    <tr>\n",
       "      <th>1123</th>\n",
       "      <td>0.500000</td>\n",
       "      <td>0.250000</td>\n",
       "      <td>0.115089</td>\n",
       "    </tr>\n",
       "    <tr>\n",
       "      <th>14047</th>\n",
       "      <td>0.666667</td>\n",
       "      <td>1.000000</td>\n",
       "      <td>0.591516</td>\n",
       "    </tr>\n",
       "  </tbody>\n",
       "</table>\n",
       "</div>"
      ],
      "text/plain": [
       "        bedroom  bathroom  square_ft\n",
       "8365   0.500000  0.333333   0.171689\n",
       "46472  0.333333  0.166667   0.161763\n",
       "45202  0.500000  0.333333   0.180314\n",
       "1123   0.500000  0.250000   0.115089\n",
       "14047  0.666667  1.000000   0.591516"
      ]
     },
     "execution_count": 400,
     "metadata": {},
     "output_type": "execute_result"
    }
   ],
   "source": [
    "x_train.head()"
   ]
  },
  {
   "cell_type": "code",
   "execution_count": 401,
   "id": "05415754",
   "metadata": {},
   "outputs": [
    {
     "data": {
      "text/html": [
       "<div>\n",
       "<style scoped>\n",
       "    .dataframe tbody tr th:only-of-type {\n",
       "        vertical-align: middle;\n",
       "    }\n",
       "\n",
       "    .dataframe tbody tr th {\n",
       "        vertical-align: top;\n",
       "    }\n",
       "\n",
       "    .dataframe thead th {\n",
       "        text-align: right;\n",
       "    }\n",
       "</style>\n",
       "<table border=\"1\" class=\"dataframe\">\n",
       "  <thead>\n",
       "    <tr style=\"text-align: right;\">\n",
       "      <th></th>\n",
       "      <th>house_value</th>\n",
       "    </tr>\n",
       "  </thead>\n",
       "  <tbody>\n",
       "    <tr>\n",
       "      <th>8365</th>\n",
       "      <td>206483.0</td>\n",
       "    </tr>\n",
       "    <tr>\n",
       "      <th>46472</th>\n",
       "      <td>110048.0</td>\n",
       "    </tr>\n",
       "    <tr>\n",
       "      <th>45202</th>\n",
       "      <td>82423.0</td>\n",
       "    </tr>\n",
       "    <tr>\n",
       "      <th>1123</th>\n",
       "      <td>373151.0</td>\n",
       "    </tr>\n",
       "    <tr>\n",
       "      <th>14047</th>\n",
       "      <td>1430885.0</td>\n",
       "    </tr>\n",
       "  </tbody>\n",
       "</table>\n",
       "</div>"
      ],
      "text/plain": [
       "       house_value\n",
       "8365      206483.0\n",
       "46472     110048.0\n",
       "45202      82423.0\n",
       "1123      373151.0\n",
       "14047    1430885.0"
      ]
     },
     "execution_count": 401,
     "metadata": {},
     "output_type": "execute_result"
    }
   ],
   "source": [
    "y_train.head()"
   ]
  },
  {
   "cell_type": "code",
   "execution_count": 350,
   "id": "1b1bcaa2",
   "metadata": {},
   "outputs": [],
   "source": [
    "from sklearn.metrics import mean_squared_error\n",
    "from sklearn.preprocessing import MinMaxScaler\n",
    "from sklearn.model_selection import train_test_split\n",
    "from sklearn.linear_model import LinearRegression, LassoLars, TweedieRegressor\n",
    "from sklearn.preprocessing import PolynomialFeatures"
   ]
  },
  {
   "cell_type": "code",
   "execution_count": 435,
   "id": "6898fa19",
   "metadata": {},
   "outputs": [
    {
     "data": {
      "text/html": [
       "<div>\n",
       "<style scoped>\n",
       "    .dataframe tbody tr th:only-of-type {\n",
       "        vertical-align: middle;\n",
       "    }\n",
       "\n",
       "    .dataframe tbody tr th {\n",
       "        vertical-align: top;\n",
       "    }\n",
       "\n",
       "    .dataframe thead th {\n",
       "        text-align: right;\n",
       "    }\n",
       "</style>\n",
       "<table border=\"1\" class=\"dataframe\">\n",
       "  <thead>\n",
       "    <tr style=\"text-align: right;\">\n",
       "      <th></th>\n",
       "      <th>actual</th>\n",
       "      <th>baseline</th>\n",
       "    </tr>\n",
       "  </thead>\n",
       "  <tbody>\n",
       "    <tr>\n",
       "      <th>8365</th>\n",
       "      <td>206483.0</td>\n",
       "      <td>444839.029886</td>\n",
       "    </tr>\n",
       "    <tr>\n",
       "      <th>46472</th>\n",
       "      <td>110048.0</td>\n",
       "      <td>444839.029886</td>\n",
       "    </tr>\n",
       "    <tr>\n",
       "      <th>45202</th>\n",
       "      <td>82423.0</td>\n",
       "      <td>444839.029886</td>\n",
       "    </tr>\n",
       "    <tr>\n",
       "      <th>1123</th>\n",
       "      <td>373151.0</td>\n",
       "      <td>444839.029886</td>\n",
       "    </tr>\n",
       "    <tr>\n",
       "      <th>14047</th>\n",
       "      <td>1430885.0</td>\n",
       "      <td>444839.029886</td>\n",
       "    </tr>\n",
       "  </tbody>\n",
       "</table>\n",
       "</div>"
      ],
      "text/plain": [
       "          actual       baseline\n",
       "8365    206483.0  444839.029886\n",
       "46472   110048.0  444839.029886\n",
       "45202    82423.0  444839.029886\n",
       "1123    373151.0  444839.029886\n",
       "14047  1430885.0  444839.029886"
      ]
     },
     "execution_count": 435,
     "metadata": {},
     "output_type": "execute_result"
    }
   ],
   "source": [
    "predictions_train = pd.DataFrame({'actual': train.house_value})\n",
    "predictions_train['baseline'] = baseline\n",
    "\n",
    "predictions_validate = pd.DataFrame({'actual': validate.house_value})\n",
    "predictions_validate['baseline'] = baseline\n",
    "\n",
    "predictions_train.head()"
   ]
  },
  {
   "cell_type": "code",
   "execution_count": null,
   "id": "7977b2b4",
   "metadata": {},
   "outputs": [],
   "source": []
  },
  {
   "cell_type": "code",
   "execution_count": 437,
   "id": "b0470d30",
   "metadata": {},
   "outputs": [
    {
     "data": {
      "text/html": [
       "<div>\n",
       "<style scoped>\n",
       "    .dataframe tbody tr th:only-of-type {\n",
       "        vertical-align: middle;\n",
       "    }\n",
       "\n",
       "    .dataframe tbody tr th {\n",
       "        vertical-align: top;\n",
       "    }\n",
       "\n",
       "    .dataframe thead th {\n",
       "        text-align: right;\n",
       "    }\n",
       "</style>\n",
       "<table border=\"1\" class=\"dataframe\">\n",
       "  <thead>\n",
       "    <tr style=\"text-align: right;\">\n",
       "      <th></th>\n",
       "      <th>actual</th>\n",
       "      <th>baseline</th>\n",
       "      <th>lm</th>\n",
       "    </tr>\n",
       "  </thead>\n",
       "  <tbody>\n",
       "    <tr>\n",
       "      <th>8365</th>\n",
       "      <td>206483.0</td>\n",
       "      <td>444839.029886</td>\n",
       "      <td>3.919516e+05</td>\n",
       "    </tr>\n",
       "    <tr>\n",
       "      <th>46472</th>\n",
       "      <td>110048.0</td>\n",
       "      <td>444839.029886</td>\n",
       "      <td>3.792310e+05</td>\n",
       "    </tr>\n",
       "    <tr>\n",
       "      <th>45202</th>\n",
       "      <td>82423.0</td>\n",
       "      <td>444839.029886</td>\n",
       "      <td>4.093239e+05</td>\n",
       "    </tr>\n",
       "    <tr>\n",
       "      <th>1123</th>\n",
       "      <td>373151.0</td>\n",
       "      <td>444839.029886</td>\n",
       "      <td>2.474018e+05</td>\n",
       "    </tr>\n",
       "    <tr>\n",
       "      <th>14047</th>\n",
       "      <td>1430885.0</td>\n",
       "      <td>444839.029886</td>\n",
       "      <td>1.413567e+06</td>\n",
       "    </tr>\n",
       "  </tbody>\n",
       "</table>\n",
       "</div>"
      ],
      "text/plain": [
       "          actual       baseline            lm\n",
       "8365    206483.0  444839.029886  3.919516e+05\n",
       "46472   110048.0  444839.029886  3.792310e+05\n",
       "45202    82423.0  444839.029886  4.093239e+05\n",
       "1123    373151.0  444839.029886  2.474018e+05\n",
       "14047  1430885.0  444839.029886  1.413567e+06"
      ]
     },
     "execution_count": 437,
     "metadata": {},
     "output_type": "execute_result"
    }
   ],
   "source": [
    "# #Instantiate the linear regression model and fit it to the data\n",
    "lm = LinearRegression()\n",
    "\n",
    "lm.fit(x_train, y_train)\n",
    "\n",
    "predictions_train['lm'] = lm.predict(x_train)\n",
    "\n",
    "predictions_validate['lm'] = lm.predict(x_validate)\n",
    "\n",
    "predictions_train.head()"
   ]
  },
  {
   "cell_type": "code",
   "execution_count": 438,
   "id": "8fc1f088",
   "metadata": {},
   "outputs": [
    {
     "data": {
      "text/html": [
       "<div>\n",
       "<style scoped>\n",
       "    .dataframe tbody tr th:only-of-type {\n",
       "        vertical-align: middle;\n",
       "    }\n",
       "\n",
       "    .dataframe tbody tr th {\n",
       "        vertical-align: top;\n",
       "    }\n",
       "\n",
       "    .dataframe thead th {\n",
       "        text-align: right;\n",
       "    }\n",
       "</style>\n",
       "<table border=\"1\" class=\"dataframe\">\n",
       "  <thead>\n",
       "    <tr style=\"text-align: right;\">\n",
       "      <th></th>\n",
       "      <th>actual</th>\n",
       "      <th>baseline</th>\n",
       "      <th>lm</th>\n",
       "    </tr>\n",
       "  </thead>\n",
       "  <tbody>\n",
       "    <tr>\n",
       "      <th>5077</th>\n",
       "      <td>1113996.0</td>\n",
       "      <td>444839.029886</td>\n",
       "      <td>369819.729432</td>\n",
       "    </tr>\n",
       "    <tr>\n",
       "      <th>11398</th>\n",
       "      <td>212737.0</td>\n",
       "      <td>444839.029886</td>\n",
       "      <td>412179.638771</td>\n",
       "    </tr>\n",
       "    <tr>\n",
       "      <th>38479</th>\n",
       "      <td>279131.0</td>\n",
       "      <td>444839.029886</td>\n",
       "      <td>277008.692117</td>\n",
       "    </tr>\n",
       "    <tr>\n",
       "      <th>1893</th>\n",
       "      <td>347304.0</td>\n",
       "      <td>444839.029886</td>\n",
       "      <td>378635.011919</td>\n",
       "    </tr>\n",
       "    <tr>\n",
       "      <th>49406</th>\n",
       "      <td>385902.0</td>\n",
       "      <td>444839.029886</td>\n",
       "      <td>736499.788630</td>\n",
       "    </tr>\n",
       "  </tbody>\n",
       "</table>\n",
       "</div>"
      ],
      "text/plain": [
       "          actual       baseline             lm\n",
       "5077   1113996.0  444839.029886  369819.729432\n",
       "11398   212737.0  444839.029886  412179.638771\n",
       "38479   279131.0  444839.029886  277008.692117\n",
       "1893    347304.0  444839.029886  378635.011919\n",
       "49406   385902.0  444839.029886  736499.788630"
      ]
     },
     "execution_count": 438,
     "metadata": {},
     "output_type": "execute_result"
    }
   ],
   "source": [
    "predictions_validate.head()"
   ]
  },
  {
   "cell_type": "code",
   "execution_count": 439,
   "id": "7e27d49b",
   "metadata": {},
   "outputs": [
    {
     "data": {
      "text/html": [
       "<div>\n",
       "<style scoped>\n",
       "    .dataframe tbody tr th:only-of-type {\n",
       "        vertical-align: middle;\n",
       "    }\n",
       "\n",
       "    .dataframe tbody tr th {\n",
       "        vertical-align: top;\n",
       "    }\n",
       "\n",
       "    .dataframe thead th {\n",
       "        text-align: right;\n",
       "    }\n",
       "</style>\n",
       "<table border=\"1\" class=\"dataframe\">\n",
       "  <thead>\n",
       "    <tr style=\"text-align: right;\">\n",
       "      <th></th>\n",
       "      <th>actual</th>\n",
       "      <th>baseline</th>\n",
       "      <th>lm</th>\n",
       "      <th>lasso_lars</th>\n",
       "    </tr>\n",
       "  </thead>\n",
       "  <tbody>\n",
       "    <tr>\n",
       "      <th>8365</th>\n",
       "      <td>206483.0</td>\n",
       "      <td>444839.029886</td>\n",
       "      <td>3.919516e+05</td>\n",
       "      <td>3.919465e+05</td>\n",
       "    </tr>\n",
       "    <tr>\n",
       "      <th>46472</th>\n",
       "      <td>110048.0</td>\n",
       "      <td>444839.029886</td>\n",
       "      <td>3.792310e+05</td>\n",
       "      <td>3.789890e+05</td>\n",
       "    </tr>\n",
       "    <tr>\n",
       "      <th>45202</th>\n",
       "      <td>82423.0</td>\n",
       "      <td>444839.029886</td>\n",
       "      <td>4.093239e+05</td>\n",
       "      <td>4.092956e+05</td>\n",
       "    </tr>\n",
       "    <tr>\n",
       "      <th>1123</th>\n",
       "      <td>373151.0</td>\n",
       "      <td>444839.029886</td>\n",
       "      <td>2.474018e+05</td>\n",
       "      <td>2.476994e+05</td>\n",
       "    </tr>\n",
       "    <tr>\n",
       "      <th>14047</th>\n",
       "      <td>1430885.0</td>\n",
       "      <td>444839.029886</td>\n",
       "      <td>1.413567e+06</td>\n",
       "      <td>1.411794e+06</td>\n",
       "    </tr>\n",
       "  </tbody>\n",
       "</table>\n",
       "</div>"
      ],
      "text/plain": [
       "          actual       baseline            lm    lasso_lars\n",
       "8365    206483.0  444839.029886  3.919516e+05  3.919465e+05\n",
       "46472   110048.0  444839.029886  3.792310e+05  3.789890e+05\n",
       "45202    82423.0  444839.029886  4.093239e+05  4.092956e+05\n",
       "1123    373151.0  444839.029886  2.474018e+05  2.476994e+05\n",
       "14047  1430885.0  444839.029886  1.413567e+06  1.411794e+06"
      ]
     },
     "execution_count": 439,
     "metadata": {},
     "output_type": "execute_result"
    }
   ],
   "source": [
    "#Instantiate lars and fit\n",
    "lars = LassoLars(alpha=1.0)\n",
    "\n",
    "lars.fit(x_train, y_train)\n",
    "\n",
    "predictions_train['lasso_lars'] = lars.predict(x_train)\n",
    "\n",
    "predictions_validate['lasso_lars'] = lars.predict(x_validate)\n",
    "\n",
    "predictions_train.head()"
   ]
  },
  {
   "cell_type": "code",
   "execution_count": 440,
   "id": "eb5af234",
   "metadata": {},
   "outputs": [
    {
     "data": {
      "text/html": [
       "<div>\n",
       "<style scoped>\n",
       "    .dataframe tbody tr th:only-of-type {\n",
       "        vertical-align: middle;\n",
       "    }\n",
       "\n",
       "    .dataframe tbody tr th {\n",
       "        vertical-align: top;\n",
       "    }\n",
       "\n",
       "    .dataframe thead th {\n",
       "        text-align: right;\n",
       "    }\n",
       "</style>\n",
       "<table border=\"1\" class=\"dataframe\">\n",
       "  <thead>\n",
       "    <tr style=\"text-align: right;\">\n",
       "      <th></th>\n",
       "      <th>actual</th>\n",
       "      <th>baseline</th>\n",
       "      <th>lm</th>\n",
       "      <th>lasso_lars</th>\n",
       "    </tr>\n",
       "  </thead>\n",
       "  <tbody>\n",
       "    <tr>\n",
       "      <th>5077</th>\n",
       "      <td>1113996.0</td>\n",
       "      <td>444839.029886</td>\n",
       "      <td>369819.729432</td>\n",
       "      <td>369844.188248</td>\n",
       "    </tr>\n",
       "    <tr>\n",
       "      <th>11398</th>\n",
       "      <td>212737.0</td>\n",
       "      <td>444839.029886</td>\n",
       "      <td>412179.638771</td>\n",
       "      <td>412147.551673</td>\n",
       "    </tr>\n",
       "    <tr>\n",
       "      <th>38479</th>\n",
       "      <td>279131.0</td>\n",
       "      <td>444839.029886</td>\n",
       "      <td>277008.692117</td>\n",
       "      <td>277157.043665</td>\n",
       "    </tr>\n",
       "    <tr>\n",
       "      <th>1893</th>\n",
       "      <td>347304.0</td>\n",
       "      <td>444839.029886</td>\n",
       "      <td>378635.011919</td>\n",
       "      <td>379011.208187</td>\n",
       "    </tr>\n",
       "    <tr>\n",
       "      <th>49406</th>\n",
       "      <td>385902.0</td>\n",
       "      <td>444839.029886</td>\n",
       "      <td>736499.788630</td>\n",
       "      <td>735815.436641</td>\n",
       "    </tr>\n",
       "  </tbody>\n",
       "</table>\n",
       "</div>"
      ],
      "text/plain": [
       "          actual       baseline             lm     lasso_lars\n",
       "5077   1113996.0  444839.029886  369819.729432  369844.188248\n",
       "11398   212737.0  444839.029886  412179.638771  412147.551673\n",
       "38479   279131.0  444839.029886  277008.692117  277157.043665\n",
       "1893    347304.0  444839.029886  378635.011919  379011.208187\n",
       "49406   385902.0  444839.029886  736499.788630  735815.436641"
      ]
     },
     "execution_count": 440,
     "metadata": {},
     "output_type": "execute_result"
    }
   ],
   "source": [
    "predictions_validate.head()"
   ]
  },
  {
   "cell_type": "code",
   "execution_count": 441,
   "id": "360441d8",
   "metadata": {},
   "outputs": [
    {
     "data": {
      "text/html": [
       "<div>\n",
       "<style scoped>\n",
       "    .dataframe tbody tr th:only-of-type {\n",
       "        vertical-align: middle;\n",
       "    }\n",
       "\n",
       "    .dataframe tbody tr th {\n",
       "        vertical-align: top;\n",
       "    }\n",
       "\n",
       "    .dataframe thead th {\n",
       "        text-align: right;\n",
       "    }\n",
       "</style>\n",
       "<table border=\"1\" class=\"dataframe\">\n",
       "  <thead>\n",
       "    <tr style=\"text-align: right;\">\n",
       "      <th></th>\n",
       "      <th>actual</th>\n",
       "      <th>baseline</th>\n",
       "      <th>lm</th>\n",
       "      <th>lasso_lars</th>\n",
       "      <th>glm</th>\n",
       "    </tr>\n",
       "  </thead>\n",
       "  <tbody>\n",
       "    <tr>\n",
       "      <th>8365</th>\n",
       "      <td>206483.0</td>\n",
       "      <td>444839.029886</td>\n",
       "      <td>3.919516e+05</td>\n",
       "      <td>3.919465e+05</td>\n",
       "      <td>442674.494722</td>\n",
       "    </tr>\n",
       "    <tr>\n",
       "      <th>46472</th>\n",
       "      <td>110048.0</td>\n",
       "      <td>444839.029886</td>\n",
       "      <td>3.792310e+05</td>\n",
       "      <td>3.789890e+05</td>\n",
       "      <td>435904.706906</td>\n",
       "    </tr>\n",
       "    <tr>\n",
       "      <th>45202</th>\n",
       "      <td>82423.0</td>\n",
       "      <td>444839.029886</td>\n",
       "      <td>4.093239e+05</td>\n",
       "      <td>4.092956e+05</td>\n",
       "      <td>442840.965185</td>\n",
       "    </tr>\n",
       "    <tr>\n",
       "      <th>1123</th>\n",
       "      <td>373151.0</td>\n",
       "      <td>444839.029886</td>\n",
       "      <td>2.474018e+05</td>\n",
       "      <td>2.476994e+05</td>\n",
       "      <td>439432.804839</td>\n",
       "    </tr>\n",
       "    <tr>\n",
       "      <th>14047</th>\n",
       "      <td>1430885.0</td>\n",
       "      <td>444839.029886</td>\n",
       "      <td>1.413567e+06</td>\n",
       "      <td>1.411794e+06</td>\n",
       "      <td>470251.270127</td>\n",
       "    </tr>\n",
       "  </tbody>\n",
       "</table>\n",
       "</div>"
      ],
      "text/plain": [
       "          actual       baseline            lm    lasso_lars            glm\n",
       "8365    206483.0  444839.029886  3.919516e+05  3.919465e+05  442674.494722\n",
       "46472   110048.0  444839.029886  3.792310e+05  3.789890e+05  435904.706906\n",
       "45202    82423.0  444839.029886  4.093239e+05  4.092956e+05  442840.965185\n",
       "1123    373151.0  444839.029886  2.474018e+05  2.476994e+05  439432.804839\n",
       "14047  1430885.0  444839.029886  1.413567e+06  1.411794e+06  470251.270127"
      ]
     },
     "execution_count": 441,
     "metadata": {},
     "output_type": "execute_result"
    }
   ],
   "source": [
    "#Instantiate TweedieRegressor and fit\n",
    "glm = TweedieRegressor(power=0, alpha=1)\n",
    "\n",
    "glm.fit(x_train, y_train)\n",
    "\n",
    "predictions_train['glm'] = glm.predict(x_train)\n",
    "\n",
    "predictions_validate['glm'] = glm.predict(x_validate)\n",
    "\n",
    "predictions_train.head()"
   ]
  },
  {
   "cell_type": "code",
   "execution_count": 442,
   "id": "c6cc0e7e",
   "metadata": {},
   "outputs": [
    {
     "data": {
      "text/html": [
       "<div>\n",
       "<style scoped>\n",
       "    .dataframe tbody tr th:only-of-type {\n",
       "        vertical-align: middle;\n",
       "    }\n",
       "\n",
       "    .dataframe tbody tr th {\n",
       "        vertical-align: top;\n",
       "    }\n",
       "\n",
       "    .dataframe thead th {\n",
       "        text-align: right;\n",
       "    }\n",
       "</style>\n",
       "<table border=\"1\" class=\"dataframe\">\n",
       "  <thead>\n",
       "    <tr style=\"text-align: right;\">\n",
       "      <th></th>\n",
       "      <th>actual</th>\n",
       "      <th>baseline</th>\n",
       "      <th>lm</th>\n",
       "      <th>lasso_lars</th>\n",
       "      <th>glm</th>\n",
       "    </tr>\n",
       "  </thead>\n",
       "  <tbody>\n",
       "    <tr>\n",
       "      <th>5077</th>\n",
       "      <td>1113996.0</td>\n",
       "      <td>444839.029886</td>\n",
       "      <td>369819.729432</td>\n",
       "      <td>369844.188248</td>\n",
       "      <td>442462.415914</td>\n",
       "    </tr>\n",
       "    <tr>\n",
       "      <th>11398</th>\n",
       "      <td>212737.0</td>\n",
       "      <td>444839.029886</td>\n",
       "      <td>412179.638771</td>\n",
       "      <td>412147.551673</td>\n",
       "      <td>442868.330192</td>\n",
       "    </tr>\n",
       "    <tr>\n",
       "      <th>38479</th>\n",
       "      <td>279131.0</td>\n",
       "      <td>444839.029886</td>\n",
       "      <td>277008.692117</td>\n",
       "      <td>277157.043665</td>\n",
       "      <td>441573.053170</td>\n",
       "    </tr>\n",
       "    <tr>\n",
       "      <th>1893</th>\n",
       "      <td>347304.0</td>\n",
       "      <td>444839.029886</td>\n",
       "      <td>378635.011919</td>\n",
       "      <td>379011.208187</td>\n",
       "      <td>447338.240467</td>\n",
       "    </tr>\n",
       "    <tr>\n",
       "      <th>49406</th>\n",
       "      <td>385902.0</td>\n",
       "      <td>444839.029886</td>\n",
       "      <td>736499.788630</td>\n",
       "      <td>735815.436641</td>\n",
       "      <td>449689.211718</td>\n",
       "    </tr>\n",
       "  </tbody>\n",
       "</table>\n",
       "</div>"
      ],
      "text/plain": [
       "          actual       baseline             lm     lasso_lars            glm\n",
       "5077   1113996.0  444839.029886  369819.729432  369844.188248  442462.415914\n",
       "11398   212737.0  444839.029886  412179.638771  412147.551673  442868.330192\n",
       "38479   279131.0  444839.029886  277008.692117  277157.043665  441573.053170\n",
       "1893    347304.0  444839.029886  378635.011919  379011.208187  447338.240467\n",
       "49406   385902.0  444839.029886  736499.788630  735815.436641  449689.211718"
      ]
     },
     "execution_count": 442,
     "metadata": {},
     "output_type": "execute_result"
    }
   ],
   "source": [
    "predictions_validate.head()"
   ]
  },
  {
   "cell_type": "code",
   "execution_count": 443,
   "id": "bd6a7917",
   "metadata": {},
   "outputs": [
    {
     "data": {
      "text/html": [
       "<div>\n",
       "<style scoped>\n",
       "    .dataframe tbody tr th:only-of-type {\n",
       "        vertical-align: middle;\n",
       "    }\n",
       "\n",
       "    .dataframe tbody tr th {\n",
       "        vertical-align: top;\n",
       "    }\n",
       "\n",
       "    .dataframe thead th {\n",
       "        text-align: right;\n",
       "    }\n",
       "</style>\n",
       "<table border=\"1\" class=\"dataframe\">\n",
       "  <thead>\n",
       "    <tr style=\"text-align: right;\">\n",
       "      <th></th>\n",
       "      <th>actual</th>\n",
       "      <th>baseline</th>\n",
       "      <th>lm</th>\n",
       "      <th>lasso_lars</th>\n",
       "      <th>glm</th>\n",
       "      <th>polynomial degree 2</th>\n",
       "    </tr>\n",
       "  </thead>\n",
       "  <tbody>\n",
       "    <tr>\n",
       "      <th>8365</th>\n",
       "      <td>206483.0</td>\n",
       "      <td>444839.029886</td>\n",
       "      <td>3.919516e+05</td>\n",
       "      <td>3.919465e+05</td>\n",
       "      <td>442674.494722</td>\n",
       "      <td>3.862114e+05</td>\n",
       "    </tr>\n",
       "    <tr>\n",
       "      <th>46472</th>\n",
       "      <td>110048.0</td>\n",
       "      <td>444839.029886</td>\n",
       "      <td>3.792310e+05</td>\n",
       "      <td>3.789890e+05</td>\n",
       "      <td>435904.706906</td>\n",
       "      <td>3.878962e+05</td>\n",
       "    </tr>\n",
       "    <tr>\n",
       "      <th>45202</th>\n",
       "      <td>82423.0</td>\n",
       "      <td>444839.029886</td>\n",
       "      <td>4.093239e+05</td>\n",
       "      <td>4.092956e+05</td>\n",
       "      <td>442840.965185</td>\n",
       "      <td>4.039454e+05</td>\n",
       "    </tr>\n",
       "    <tr>\n",
       "      <th>1123</th>\n",
       "      <td>373151.0</td>\n",
       "      <td>444839.029886</td>\n",
       "      <td>2.474018e+05</td>\n",
       "      <td>2.476994e+05</td>\n",
       "      <td>439432.804839</td>\n",
       "      <td>2.550158e+05</td>\n",
       "    </tr>\n",
       "    <tr>\n",
       "      <th>14047</th>\n",
       "      <td>1430885.0</td>\n",
       "      <td>444839.029886</td>\n",
       "      <td>1.413567e+06</td>\n",
       "      <td>1.411794e+06</td>\n",
       "      <td>470251.270127</td>\n",
       "      <td>1.642342e+06</td>\n",
       "    </tr>\n",
       "  </tbody>\n",
       "</table>\n",
       "</div>"
      ],
      "text/plain": [
       "          actual       baseline            lm    lasso_lars            glm  \\\n",
       "8365    206483.0  444839.029886  3.919516e+05  3.919465e+05  442674.494722   \n",
       "46472   110048.0  444839.029886  3.792310e+05  3.789890e+05  435904.706906   \n",
       "45202    82423.0  444839.029886  4.093239e+05  4.092956e+05  442840.965185   \n",
       "1123    373151.0  444839.029886  2.474018e+05  2.476994e+05  439432.804839   \n",
       "14047  1430885.0  444839.029886  1.413567e+06  1.411794e+06  470251.270127   \n",
       "\n",
       "       polynomial degree 2  \n",
       "8365          3.862114e+05  \n",
       "46472         3.878962e+05  \n",
       "45202         4.039454e+05  \n",
       "1123          2.550158e+05  \n",
       "14047         1.642342e+06  "
      ]
     },
     "execution_count": 443,
     "metadata": {},
     "output_type": "execute_result"
    }
   ],
   "source": [
    "# Polynomial degree 2\n",
    "\n",
    "poly = PolynomialFeatures(degree=2, include_bias=False, interaction_only=False)\n",
    "\n",
    "poly.fit(x_train)\n",
    "\n",
    "x_train_poly = pd.DataFrame(\n",
    "    poly.transform(x_train),\n",
    "    columns=poly.get_feature_names(x_train.columns),\n",
    "    index=train.index)\n",
    "\n",
    "lm1 = LinearRegression()\n",
    "lm1.fit(x_train_poly, y_train)\n",
    "x_train_poly = poly.transform(x_train)\n",
    "\n",
    "predictions_train['polynomial degree 2'] = lm1.predict(x_train_poly)\n",
    "\n",
    "predictions_validate['polynomial degree 2'] = lm1.predict(poly.transform(x_validate))\n",
    "\n",
    "predictions_train.head()"
   ]
  },
  {
   "cell_type": "code",
   "execution_count": 444,
   "id": "93d840c4",
   "metadata": {},
   "outputs": [
    {
     "data": {
      "text/html": [
       "<div>\n",
       "<style scoped>\n",
       "    .dataframe tbody tr th:only-of-type {\n",
       "        vertical-align: middle;\n",
       "    }\n",
       "\n",
       "    .dataframe tbody tr th {\n",
       "        vertical-align: top;\n",
       "    }\n",
       "\n",
       "    .dataframe thead th {\n",
       "        text-align: right;\n",
       "    }\n",
       "</style>\n",
       "<table border=\"1\" class=\"dataframe\">\n",
       "  <thead>\n",
       "    <tr style=\"text-align: right;\">\n",
       "      <th></th>\n",
       "      <th>actual</th>\n",
       "      <th>baseline</th>\n",
       "      <th>lm</th>\n",
       "      <th>lasso_lars</th>\n",
       "      <th>glm</th>\n",
       "      <th>polynomial degree 2</th>\n",
       "    </tr>\n",
       "  </thead>\n",
       "  <tbody>\n",
       "    <tr>\n",
       "      <th>5077</th>\n",
       "      <td>1113996.0</td>\n",
       "      <td>444839.029886</td>\n",
       "      <td>369819.729432</td>\n",
       "      <td>369844.188248</td>\n",
       "      <td>442462.415914</td>\n",
       "      <td>363215.185210</td>\n",
       "    </tr>\n",
       "    <tr>\n",
       "      <th>11398</th>\n",
       "      <td>212737.0</td>\n",
       "      <td>444839.029886</td>\n",
       "      <td>412179.638771</td>\n",
       "      <td>412147.551673</td>\n",
       "      <td>442868.330192</td>\n",
       "      <td>406833.931327</td>\n",
       "    </tr>\n",
       "    <tr>\n",
       "      <th>38479</th>\n",
       "      <td>279131.0</td>\n",
       "      <td>444839.029886</td>\n",
       "      <td>277008.692117</td>\n",
       "      <td>277157.043665</td>\n",
       "      <td>441573.053170</td>\n",
       "      <td>261854.380565</td>\n",
       "    </tr>\n",
       "    <tr>\n",
       "      <th>1893</th>\n",
       "      <td>347304.0</td>\n",
       "      <td>444839.029886</td>\n",
       "      <td>378635.011919</td>\n",
       "      <td>379011.208187</td>\n",
       "      <td>447338.240467</td>\n",
       "      <td>363090.814257</td>\n",
       "    </tr>\n",
       "    <tr>\n",
       "      <th>49406</th>\n",
       "      <td>385902.0</td>\n",
       "      <td>444839.029886</td>\n",
       "      <td>736499.788630</td>\n",
       "      <td>735815.436641</td>\n",
       "      <td>449689.211718</td>\n",
       "      <td>729046.061385</td>\n",
       "    </tr>\n",
       "  </tbody>\n",
       "</table>\n",
       "</div>"
      ],
      "text/plain": [
       "          actual       baseline             lm     lasso_lars            glm  \\\n",
       "5077   1113996.0  444839.029886  369819.729432  369844.188248  442462.415914   \n",
       "11398   212737.0  444839.029886  412179.638771  412147.551673  442868.330192   \n",
       "38479   279131.0  444839.029886  277008.692117  277157.043665  441573.053170   \n",
       "1893    347304.0  444839.029886  378635.011919  379011.208187  447338.240467   \n",
       "49406   385902.0  444839.029886  736499.788630  735815.436641  449689.211718   \n",
       "\n",
       "       polynomial degree 2  \n",
       "5077         363215.185210  \n",
       "11398        406833.931327  \n",
       "38479        261854.380565  \n",
       "1893         363090.814257  \n",
       "49406        729046.061385  "
      ]
     },
     "execution_count": 444,
     "metadata": {},
     "output_type": "execute_result"
    }
   ],
   "source": [
    "predictions_validate.head()"
   ]
  },
  {
   "cell_type": "code",
   "execution_count": 445,
   "id": "37930cc1",
   "metadata": {},
   "outputs": [
    {
     "data": {
      "text/html": [
       "<div>\n",
       "<style scoped>\n",
       "    .dataframe tbody tr th:only-of-type {\n",
       "        vertical-align: middle;\n",
       "    }\n",
       "\n",
       "    .dataframe tbody tr th {\n",
       "        vertical-align: top;\n",
       "    }\n",
       "\n",
       "    .dataframe thead th {\n",
       "        text-align: right;\n",
       "    }\n",
       "</style>\n",
       "<table border=\"1\" class=\"dataframe\">\n",
       "  <thead>\n",
       "    <tr style=\"text-align: right;\">\n",
       "      <th></th>\n",
       "      <th>actual</th>\n",
       "      <th>baseline</th>\n",
       "      <th>lm</th>\n",
       "      <th>lasso_lars</th>\n",
       "      <th>glm</th>\n",
       "      <th>polynomial degree 2</th>\n",
       "      <th>polynomial only interaction</th>\n",
       "    </tr>\n",
       "  </thead>\n",
       "  <tbody>\n",
       "    <tr>\n",
       "      <th>8365</th>\n",
       "      <td>206483.0</td>\n",
       "      <td>444839.029886</td>\n",
       "      <td>3.919516e+05</td>\n",
       "      <td>3.919465e+05</td>\n",
       "      <td>442674.494722</td>\n",
       "      <td>3.862114e+05</td>\n",
       "      <td>3.868983e+05</td>\n",
       "    </tr>\n",
       "    <tr>\n",
       "      <th>46472</th>\n",
       "      <td>110048.0</td>\n",
       "      <td>444839.029886</td>\n",
       "      <td>3.792310e+05</td>\n",
       "      <td>3.789890e+05</td>\n",
       "      <td>435904.706906</td>\n",
       "      <td>3.878962e+05</td>\n",
       "      <td>3.826682e+05</td>\n",
       "    </tr>\n",
       "    <tr>\n",
       "      <th>45202</th>\n",
       "      <td>82423.0</td>\n",
       "      <td>444839.029886</td>\n",
       "      <td>4.093239e+05</td>\n",
       "      <td>4.092956e+05</td>\n",
       "      <td>442840.965185</td>\n",
       "      <td>4.039454e+05</td>\n",
       "      <td>4.032066e+05</td>\n",
       "    </tr>\n",
       "    <tr>\n",
       "      <th>1123</th>\n",
       "      <td>373151.0</td>\n",
       "      <td>444839.029886</td>\n",
       "      <td>2.474018e+05</td>\n",
       "      <td>2.476994e+05</td>\n",
       "      <td>439432.804839</td>\n",
       "      <td>2.550158e+05</td>\n",
       "      <td>2.586623e+05</td>\n",
       "    </tr>\n",
       "    <tr>\n",
       "      <th>14047</th>\n",
       "      <td>1430885.0</td>\n",
       "      <td>444839.029886</td>\n",
       "      <td>1.413567e+06</td>\n",
       "      <td>1.411794e+06</td>\n",
       "      <td>470251.270127</td>\n",
       "      <td>1.642342e+06</td>\n",
       "      <td>1.569138e+06</td>\n",
       "    </tr>\n",
       "  </tbody>\n",
       "</table>\n",
       "</div>"
      ],
      "text/plain": [
       "          actual       baseline            lm    lasso_lars            glm  \\\n",
       "8365    206483.0  444839.029886  3.919516e+05  3.919465e+05  442674.494722   \n",
       "46472   110048.0  444839.029886  3.792310e+05  3.789890e+05  435904.706906   \n",
       "45202    82423.0  444839.029886  4.093239e+05  4.092956e+05  442840.965185   \n",
       "1123    373151.0  444839.029886  2.474018e+05  2.476994e+05  439432.804839   \n",
       "14047  1430885.0  444839.029886  1.413567e+06  1.411794e+06  470251.270127   \n",
       "\n",
       "       polynomial degree 2  polynomial only interaction  \n",
       "8365          3.862114e+05                 3.868983e+05  \n",
       "46472         3.878962e+05                 3.826682e+05  \n",
       "45202         4.039454e+05                 4.032066e+05  \n",
       "1123          2.550158e+05                 2.586623e+05  \n",
       "14047         1.642342e+06                 1.569138e+06  "
      ]
     },
     "execution_count": 445,
     "metadata": {},
     "output_type": "execute_result"
    }
   ],
   "source": [
    "# polynomial only interaction\n",
    "\n",
    "poly1 = PolynomialFeatures(degree=2, include_bias=False, interaction_only=True)\n",
    "\n",
    "poly1.fit(x_train)\n",
    "\n",
    "x_train_poly1 = pd.DataFrame(\n",
    "    poly1.transform(x_train),\n",
    "    columns=poly1.get_feature_names(x_train.columns),\n",
    "    index=train.index)\n",
    "\n",
    "lm1.fit(x_train_poly1, y_train)\n",
    "x_train_poly1 = poly1.transform(x_train)\n",
    "\n",
    "predictions_train['polynomial only interaction'] = lm1.predict(x_train_poly1)\n",
    "\n",
    "predictions_validate['polynomial only interaction'] = lm1.predict(poly1.transform(x_validate))\n",
    "\n",
    "predictions_train.head()"
   ]
  },
  {
   "cell_type": "code",
   "execution_count": 446,
   "id": "ec31bbc3",
   "metadata": {},
   "outputs": [
    {
     "data": {
      "text/html": [
       "<div>\n",
       "<style scoped>\n",
       "    .dataframe tbody tr th:only-of-type {\n",
       "        vertical-align: middle;\n",
       "    }\n",
       "\n",
       "    .dataframe tbody tr th {\n",
       "        vertical-align: top;\n",
       "    }\n",
       "\n",
       "    .dataframe thead th {\n",
       "        text-align: right;\n",
       "    }\n",
       "</style>\n",
       "<table border=\"1\" class=\"dataframe\">\n",
       "  <thead>\n",
       "    <tr style=\"text-align: right;\">\n",
       "      <th></th>\n",
       "      <th>actual</th>\n",
       "      <th>baseline</th>\n",
       "      <th>lm</th>\n",
       "      <th>lasso_lars</th>\n",
       "      <th>glm</th>\n",
       "      <th>polynomial degree 2</th>\n",
       "      <th>polynomial only interaction</th>\n",
       "    </tr>\n",
       "  </thead>\n",
       "  <tbody>\n",
       "    <tr>\n",
       "      <th>5077</th>\n",
       "      <td>1113996.0</td>\n",
       "      <td>444839.029886</td>\n",
       "      <td>369819.729432</td>\n",
       "      <td>369844.188248</td>\n",
       "      <td>442462.415914</td>\n",
       "      <td>363215.185210</td>\n",
       "      <td>366121.948669</td>\n",
       "    </tr>\n",
       "    <tr>\n",
       "      <th>11398</th>\n",
       "      <td>212737.0</td>\n",
       "      <td>444839.029886</td>\n",
       "      <td>412179.638771</td>\n",
       "      <td>412147.551673</td>\n",
       "      <td>442868.330192</td>\n",
       "      <td>406833.931327</td>\n",
       "      <td>405887.400008</td>\n",
       "    </tr>\n",
       "    <tr>\n",
       "      <th>38479</th>\n",
       "      <td>279131.0</td>\n",
       "      <td>444839.029886</td>\n",
       "      <td>277008.692117</td>\n",
       "      <td>277157.043665</td>\n",
       "      <td>441573.053170</td>\n",
       "      <td>261854.380565</td>\n",
       "      <td>278995.397983</td>\n",
       "    </tr>\n",
       "    <tr>\n",
       "      <th>1893</th>\n",
       "      <td>347304.0</td>\n",
       "      <td>444839.029886</td>\n",
       "      <td>378635.011919</td>\n",
       "      <td>379011.208187</td>\n",
       "      <td>447338.240467</td>\n",
       "      <td>363090.814257</td>\n",
       "      <td>377241.526156</td>\n",
       "    </tr>\n",
       "    <tr>\n",
       "      <th>49406</th>\n",
       "      <td>385902.0</td>\n",
       "      <td>444839.029886</td>\n",
       "      <td>736499.788630</td>\n",
       "      <td>735815.436641</td>\n",
       "      <td>449689.211718</td>\n",
       "      <td>729046.061385</td>\n",
       "      <td>727022.773529</td>\n",
       "    </tr>\n",
       "  </tbody>\n",
       "</table>\n",
       "</div>"
      ],
      "text/plain": [
       "          actual       baseline             lm     lasso_lars            glm  \\\n",
       "5077   1113996.0  444839.029886  369819.729432  369844.188248  442462.415914   \n",
       "11398   212737.0  444839.029886  412179.638771  412147.551673  442868.330192   \n",
       "38479   279131.0  444839.029886  277008.692117  277157.043665  441573.053170   \n",
       "1893    347304.0  444839.029886  378635.011919  379011.208187  447338.240467   \n",
       "49406   385902.0  444839.029886  736499.788630  735815.436641  449689.211718   \n",
       "\n",
       "       polynomial degree 2  polynomial only interaction  \n",
       "5077         363215.185210                366121.948669  \n",
       "11398        406833.931327                405887.400008  \n",
       "38479        261854.380565                278995.397983  \n",
       "1893         363090.814257                377241.526156  \n",
       "49406        729046.061385                727022.773529  "
      ]
     },
     "execution_count": 446,
     "metadata": {},
     "output_type": "execute_result"
    }
   ],
   "source": [
    "predictions_validate.head()"
   ]
  },
  {
   "cell_type": "markdown",
   "id": "e8597cad",
   "metadata": {},
   "source": [
    "## evaluate on the train set with RMSE (Root Mean Squared Error)"
   ]
  },
  {
   "cell_type": "code",
   "execution_count": 422,
   "id": "199cd3f4",
   "metadata": {},
   "outputs": [
    {
     "data": {
      "text/html": [
       "<div>\n",
       "<style scoped>\n",
       "    .dataframe tbody tr th:only-of-type {\n",
       "        vertical-align: middle;\n",
       "    }\n",
       "\n",
       "    .dataframe tbody tr th {\n",
       "        vertical-align: top;\n",
       "    }\n",
       "\n",
       "    .dataframe thead th {\n",
       "        text-align: right;\n",
       "    }\n",
       "</style>\n",
       "<table border=\"1\" class=\"dataframe\">\n",
       "  <thead>\n",
       "    <tr style=\"text-align: right;\">\n",
       "      <th></th>\n",
       "      <th>actual</th>\n",
       "      <th>baseline</th>\n",
       "      <th>lm</th>\n",
       "      <th>lasso_lars</th>\n",
       "      <th>glm</th>\n",
       "      <th>polynomial degree 2</th>\n",
       "      <th>polynomial only interaction</th>\n",
       "    </tr>\n",
       "  </thead>\n",
       "  <tbody>\n",
       "    <tr>\n",
       "      <th>8365</th>\n",
       "      <td>206483.0</td>\n",
       "      <td>444839.029886</td>\n",
       "      <td>3.919516e+05</td>\n",
       "      <td>3.919465e+05</td>\n",
       "      <td>442674.494722</td>\n",
       "      <td>3.862114e+05</td>\n",
       "      <td>3.868983e+05</td>\n",
       "    </tr>\n",
       "    <tr>\n",
       "      <th>46472</th>\n",
       "      <td>110048.0</td>\n",
       "      <td>444839.029886</td>\n",
       "      <td>3.792310e+05</td>\n",
       "      <td>3.789890e+05</td>\n",
       "      <td>435904.706906</td>\n",
       "      <td>3.878962e+05</td>\n",
       "      <td>3.826682e+05</td>\n",
       "    </tr>\n",
       "    <tr>\n",
       "      <th>45202</th>\n",
       "      <td>82423.0</td>\n",
       "      <td>444839.029886</td>\n",
       "      <td>4.093239e+05</td>\n",
       "      <td>4.092956e+05</td>\n",
       "      <td>442840.965185</td>\n",
       "      <td>4.039454e+05</td>\n",
       "      <td>4.032066e+05</td>\n",
       "    </tr>\n",
       "    <tr>\n",
       "      <th>1123</th>\n",
       "      <td>373151.0</td>\n",
       "      <td>444839.029886</td>\n",
       "      <td>2.474018e+05</td>\n",
       "      <td>2.476994e+05</td>\n",
       "      <td>439432.804839</td>\n",
       "      <td>2.550158e+05</td>\n",
       "      <td>2.586623e+05</td>\n",
       "    </tr>\n",
       "    <tr>\n",
       "      <th>14047</th>\n",
       "      <td>1430885.0</td>\n",
       "      <td>444839.029886</td>\n",
       "      <td>1.413567e+06</td>\n",
       "      <td>1.411794e+06</td>\n",
       "      <td>470251.270127</td>\n",
       "      <td>1.642342e+06</td>\n",
       "      <td>1.569138e+06</td>\n",
       "    </tr>\n",
       "  </tbody>\n",
       "</table>\n",
       "</div>"
      ],
      "text/plain": [
       "          actual       baseline            lm    lasso_lars            glm  \\\n",
       "8365    206483.0  444839.029886  3.919516e+05  3.919465e+05  442674.494722   \n",
       "46472   110048.0  444839.029886  3.792310e+05  3.789890e+05  435904.706906   \n",
       "45202    82423.0  444839.029886  4.093239e+05  4.092956e+05  442840.965185   \n",
       "1123    373151.0  444839.029886  2.474018e+05  2.476994e+05  439432.804839   \n",
       "14047  1430885.0  444839.029886  1.413567e+06  1.411794e+06  470251.270127   \n",
       "\n",
       "       polynomial degree 2  polynomial only interaction  \n",
       "8365          3.862114e+05                 3.868983e+05  \n",
       "46472         3.878962e+05                 3.826682e+05  \n",
       "45202         4.039454e+05                 4.032066e+05  \n",
       "1123          2.550158e+05                 2.586623e+05  \n",
       "14047         1.642342e+06                 1.569138e+06  "
      ]
     },
     "execution_count": 422,
     "metadata": {},
     "output_type": "execute_result"
    }
   ],
   "source": [
    "predictions_train.head()"
   ]
  },
  {
   "cell_type": "code",
   "execution_count": 449,
   "id": "6a11174c",
   "metadata": {},
   "outputs": [
    {
     "data": {
      "text/plain": [
       "actual                              0.000000\n",
       "polynomial degree 2            284486.095617\n",
       "polynomial only interaction    285074.050248\n",
       "lm                             285551.721745\n",
       "lasso_lars                     285552.028073\n",
       "glm                            350756.070828\n",
       "baseline                       354300.374389\n",
       "dtype: float64"
      ]
     },
     "execution_count": 449,
     "metadata": {},
     "output_type": "execute_result"
    }
   ],
   "source": [
    "def calculate_rmse(y_predicted):\n",
    "    return sqrt(mean_squared_error(predictions_train.actual, y_predicted))\n",
    "\n",
    "predictions_train.apply(calculate_rmse).sort_values()"
   ]
  },
  {
   "cell_type": "markdown",
   "id": "939f9aa4",
   "metadata": {},
   "source": [
    "## evaluate on the validate set"
   ]
  },
  {
   "cell_type": "code",
   "execution_count": 447,
   "id": "4dc66a3b",
   "metadata": {},
   "outputs": [
    {
     "data": {
      "text/html": [
       "<div>\n",
       "<style scoped>\n",
       "    .dataframe tbody tr th:only-of-type {\n",
       "        vertical-align: middle;\n",
       "    }\n",
       "\n",
       "    .dataframe tbody tr th {\n",
       "        vertical-align: top;\n",
       "    }\n",
       "\n",
       "    .dataframe thead th {\n",
       "        text-align: right;\n",
       "    }\n",
       "</style>\n",
       "<table border=\"1\" class=\"dataframe\">\n",
       "  <thead>\n",
       "    <tr style=\"text-align: right;\">\n",
       "      <th></th>\n",
       "      <th>actual</th>\n",
       "      <th>baseline</th>\n",
       "      <th>lm</th>\n",
       "      <th>lasso_lars</th>\n",
       "      <th>glm</th>\n",
       "      <th>polynomial degree 2</th>\n",
       "      <th>polynomial only interaction</th>\n",
       "    </tr>\n",
       "  </thead>\n",
       "  <tbody>\n",
       "    <tr>\n",
       "      <th>5077</th>\n",
       "      <td>1113996.0</td>\n",
       "      <td>444839.029886</td>\n",
       "      <td>369819.729432</td>\n",
       "      <td>369844.188248</td>\n",
       "      <td>442462.415914</td>\n",
       "      <td>363215.185210</td>\n",
       "      <td>366121.948669</td>\n",
       "    </tr>\n",
       "    <tr>\n",
       "      <th>11398</th>\n",
       "      <td>212737.0</td>\n",
       "      <td>444839.029886</td>\n",
       "      <td>412179.638771</td>\n",
       "      <td>412147.551673</td>\n",
       "      <td>442868.330192</td>\n",
       "      <td>406833.931327</td>\n",
       "      <td>405887.400008</td>\n",
       "    </tr>\n",
       "    <tr>\n",
       "      <th>38479</th>\n",
       "      <td>279131.0</td>\n",
       "      <td>444839.029886</td>\n",
       "      <td>277008.692117</td>\n",
       "      <td>277157.043665</td>\n",
       "      <td>441573.053170</td>\n",
       "      <td>261854.380565</td>\n",
       "      <td>278995.397983</td>\n",
       "    </tr>\n",
       "    <tr>\n",
       "      <th>1893</th>\n",
       "      <td>347304.0</td>\n",
       "      <td>444839.029886</td>\n",
       "      <td>378635.011919</td>\n",
       "      <td>379011.208187</td>\n",
       "      <td>447338.240467</td>\n",
       "      <td>363090.814257</td>\n",
       "      <td>377241.526156</td>\n",
       "    </tr>\n",
       "    <tr>\n",
       "      <th>49406</th>\n",
       "      <td>385902.0</td>\n",
       "      <td>444839.029886</td>\n",
       "      <td>736499.788630</td>\n",
       "      <td>735815.436641</td>\n",
       "      <td>449689.211718</td>\n",
       "      <td>729046.061385</td>\n",
       "      <td>727022.773529</td>\n",
       "    </tr>\n",
       "  </tbody>\n",
       "</table>\n",
       "</div>"
      ],
      "text/plain": [
       "          actual       baseline             lm     lasso_lars            glm  \\\n",
       "5077   1113996.0  444839.029886  369819.729432  369844.188248  442462.415914   \n",
       "11398   212737.0  444839.029886  412179.638771  412147.551673  442868.330192   \n",
       "38479   279131.0  444839.029886  277008.692117  277157.043665  441573.053170   \n",
       "1893    347304.0  444839.029886  378635.011919  379011.208187  447338.240467   \n",
       "49406   385902.0  444839.029886  736499.788630  735815.436641  449689.211718   \n",
       "\n",
       "       polynomial degree 2  polynomial only interaction  \n",
       "5077         363215.185210                366121.948669  \n",
       "11398        406833.931327                405887.400008  \n",
       "38479        261854.380565                278995.397983  \n",
       "1893         363090.814257                377241.526156  \n",
       "49406        729046.061385                727022.773529  "
      ]
     },
     "execution_count": 447,
     "metadata": {},
     "output_type": "execute_result"
    }
   ],
   "source": [
    "predictions_validate.head()"
   ]
  },
  {
   "cell_type": "code",
   "execution_count": 452,
   "id": "0650349b",
   "metadata": {
    "scrolled": true
   },
   "outputs": [
    {
     "data": {
      "text/plain": [
       "actual                              0.000000\n",
       "polynomial degree 2            280522.236177\n",
       "polynomial only interaction    280852.130795\n",
       "lasso_lars                     281616.009393\n",
       "lm                             281616.658281\n",
       "glm                            344467.556654\n",
       "baseline                       347942.071187\n",
       "dtype: float64"
      ]
     },
     "execution_count": 452,
     "metadata": {},
     "output_type": "execute_result"
    }
   ],
   "source": [
    "def calculate_rmse(y_predicted):\n",
    "    return sqrt(mean_squared_error(predictions_validate.actual, y_predicted))\n",
    "\n",
    "predictions_validate.apply(calculate_rmse).sort_values()"
   ]
  },
  {
   "cell_type": "markdown",
   "id": "1f7bff3a",
   "metadata": {},
   "source": [
    "## Evaluate on Test: Best Model (2nd Degree Polynomial)"
   ]
  },
  {
   "cell_type": "code",
   "execution_count": 453,
   "id": "a13d998c",
   "metadata": {},
   "outputs": [
    {
     "data": {
      "text/plain": [
       "LinearRegression()"
      ]
     },
     "execution_count": 453,
     "metadata": {},
     "output_type": "execute_result"
    }
   ],
   "source": [
    "# re-create our polynomial model\n",
    "poly = PolynomialFeatures(degree=2, include_bias=False, interaction_only=False)\n",
    "poly.fit(x_train)\n",
    "x_train_poly = pd.DataFrame(poly.transform(x_train),\n",
    "                            columns=poly.get_feature_names(x_train.columns),index=train.index)\n",
    "\n",
    "lm = LinearRegression()\n",
    "lm.fit(x_train_poly, y_train)"
   ]
  },
  {
   "cell_type": "code",
   "execution_count": 454,
   "id": "0c2cd81d",
   "metadata": {},
   "outputs": [],
   "source": [
    "# any transformations applied to your training data must be applied to the test as well\n",
    "\n",
    "x_test_poly = poly.transform(x_test)\n",
    "\n",
    "test_predictions = lm.predict(x_test_poly)\n",
    "test_actual = test.house_value"
   ]
  },
  {
   "cell_type": "code",
   "execution_count": 455,
   "id": "81a5cc9f",
   "metadata": {},
   "outputs": [
    {
     "data": {
      "text/plain": [
       "289424.54758118454"
      ]
     },
     "execution_count": 455,
     "metadata": {},
     "output_type": "execute_result"
    }
   ],
   "source": [
    "# RMSE\n",
    "\n",
    "sqrt(mean_squared_error(test_actual, test_predictions))"
   ]
  },
  {
   "cell_type": "code",
   "execution_count": 462,
   "id": "541a768f",
   "metadata": {},
   "outputs": [
    {
     "name": "stdout",
     "output_type": "stream",
     "text": [
      "RMSE for 2nd Degree Polynomial model on the train dataset: 284486.10\n",
      "RMSE for 2nd Degree Polynomial model on the validate dataset: 280522.24\n",
      "RMSE for 2nd Degree Polynomial model on the test dataset: 289424.55\n"
     ]
    }
   ],
   "source": [
    "print('RMSE for 2nd Degree Polynomial model on the train dataset: 284486.10')\n",
    "print('RMSE for 2nd Degree Polynomial model on the validate dataset: 280522.24')\n",
    "print('RMSE for 2nd Degree Polynomial model on the test dataset: 289424.55')"
   ]
  },
  {
   "cell_type": "code",
   "execution_count": null,
   "id": "04a21f7f",
   "metadata": {},
   "outputs": [],
   "source": []
  },
  {
   "cell_type": "code",
   "execution_count": null,
   "id": "67d76f8f",
   "metadata": {},
   "outputs": [],
   "source": []
  },
  {
   "cell_type": "code",
   "execution_count": null,
   "id": "2eddfa7b",
   "metadata": {},
   "outputs": [],
   "source": []
  },
  {
   "cell_type": "code",
   "execution_count": null,
   "id": "502327d6",
   "metadata": {},
   "outputs": [],
   "source": [
    "# train = pd.get_dummies(train, ['fips'])\n",
    "# validate = pd.get_dummies(validate, ['fips'])\n",
    "# train.head()"
   ]
  },
  {
   "cell_type": "markdown",
   "id": "b972d5e3",
   "metadata": {},
   "source": [
    "## Feature engineering"
   ]
  },
  {
   "cell_type": "code",
   "execution_count": 214,
   "id": "902e8b8a",
   "metadata": {},
   "outputs": [],
   "source": [
    "from sklearn.feature_selection import SelectKBest, RFE, f_regression, SequentialFeatureSelector\n",
    "import sklearn.preprocessing"
   ]
  },
  {
   "cell_type": "code",
   "execution_count": 211,
   "id": "53d5ec51",
   "metadata": {},
   "outputs": [
    {
     "data": {
      "text/html": [
       "<div>\n",
       "<style scoped>\n",
       "    .dataframe tbody tr th:only-of-type {\n",
       "        vertical-align: middle;\n",
       "    }\n",
       "\n",
       "    .dataframe tbody tr th {\n",
       "        vertical-align: top;\n",
       "    }\n",
       "\n",
       "    .dataframe thead th {\n",
       "        text-align: right;\n",
       "    }\n",
       "</style>\n",
       "<table border=\"1\" class=\"dataframe\">\n",
       "  <thead>\n",
       "    <tr style=\"text-align: right;\">\n",
       "      <th></th>\n",
       "      <th>bedroom</th>\n",
       "      <th>bathroom</th>\n",
       "      <th>square_ft</th>\n",
       "      <th>yearbuilt</th>\n",
       "      <th>fips</th>\n",
       "      <th>house_value</th>\n",
       "      <th>tax</th>\n",
       "    </tr>\n",
       "  </thead>\n",
       "  <tbody>\n",
       "    <tr>\n",
       "      <th>8365</th>\n",
       "      <td>3</td>\n",
       "      <td>2.0</td>\n",
       "      <td>1605</td>\n",
       "      <td>1983</td>\n",
       "      <td>6111.0</td>\n",
       "      <td>206483.0</td>\n",
       "      <td>2293.70</td>\n",
       "    </tr>\n",
       "    <tr>\n",
       "      <th>46472</th>\n",
       "      <td>2</td>\n",
       "      <td>1.0</td>\n",
       "      <td>1521</td>\n",
       "      <td>1970</td>\n",
       "      <td>6037.0</td>\n",
       "      <td>110048.0</td>\n",
       "      <td>1530.47</td>\n",
       "    </tr>\n",
       "    <tr>\n",
       "      <th>45202</th>\n",
       "      <td>3</td>\n",
       "      <td>2.0</td>\n",
       "      <td>1678</td>\n",
       "      <td>1956</td>\n",
       "      <td>6059.0</td>\n",
       "      <td>82423.0</td>\n",
       "      <td>1175.02</td>\n",
       "    </tr>\n",
       "    <tr>\n",
       "      <th>1123</th>\n",
       "      <td>3</td>\n",
       "      <td>1.5</td>\n",
       "      <td>1126</td>\n",
       "      <td>1955</td>\n",
       "      <td>6059.0</td>\n",
       "      <td>373151.0</td>\n",
       "      <td>4521.78</td>\n",
       "    </tr>\n",
       "    <tr>\n",
       "      <th>14047</th>\n",
       "      <td>4</td>\n",
       "      <td>6.0</td>\n",
       "      <td>5158</td>\n",
       "      <td>2002</td>\n",
       "      <td>6037.0</td>\n",
       "      <td>1430885.0</td>\n",
       "      <td>17415.28</td>\n",
       "    </tr>\n",
       "  </tbody>\n",
       "</table>\n",
       "</div>"
      ],
      "text/plain": [
       "       bedroom  bathroom  square_ft  yearbuilt    fips  house_value       tax\n",
       "8365         3       2.0       1605       1983  6111.0     206483.0   2293.70\n",
       "46472        2       1.0       1521       1970  6037.0     110048.0   1530.47\n",
       "45202        3       2.0       1678       1956  6059.0      82423.0   1175.02\n",
       "1123         3       1.5       1126       1955  6059.0     373151.0   4521.78\n",
       "14047        4       6.0       5158       2002  6037.0    1430885.0  17415.28"
      ]
     },
     "execution_count": 211,
     "metadata": {},
     "output_type": "execute_result"
    }
   ],
   "source": [
    "train.head()"
   ]
  },
  {
   "cell_type": "code",
   "execution_count": 212,
   "id": "9ef0c3d8",
   "metadata": {
    "scrolled": true
   },
   "outputs": [
    {
     "name": "stdout",
     "output_type": "stream",
     "text": [
      "<class 'pandas.core.frame.DataFrame'>\n",
      "Int64Index: 28441 entries, 8365 to 46891\n",
      "Data columns (total 7 columns):\n",
      " #   Column       Non-Null Count  Dtype  \n",
      "---  ------       --------------  -----  \n",
      " 0   bedroom      28441 non-null  int64  \n",
      " 1   bathroom     28441 non-null  float64\n",
      " 2   square_ft    28441 non-null  int64  \n",
      " 3   yearbuilt    28441 non-null  int64  \n",
      " 4   fips         28441 non-null  object \n",
      " 5   house_value  28441 non-null  float64\n",
      " 6   tax          28441 non-null  float64\n",
      "dtypes: float64(3), int64(3), object(1)\n",
      "memory usage: 2.7+ MB\n"
     ]
    }
   ],
   "source": [
    "train.info()"
   ]
  },
  {
   "cell_type": "code",
   "execution_count": 236,
   "id": "54b7b423",
   "metadata": {},
   "outputs": [
    {
     "data": {
      "text/html": [
       "<div>\n",
       "<style scoped>\n",
       "    .dataframe tbody tr th:only-of-type {\n",
       "        vertical-align: middle;\n",
       "    }\n",
       "\n",
       "    .dataframe tbody tr th {\n",
       "        vertical-align: top;\n",
       "    }\n",
       "\n",
       "    .dataframe thead th {\n",
       "        text-align: right;\n",
       "    }\n",
       "</style>\n",
       "<table border=\"1\" class=\"dataframe\">\n",
       "  <thead>\n",
       "    <tr style=\"text-align: right;\">\n",
       "      <th></th>\n",
       "      <th>bedroom</th>\n",
       "      <th>bathroom</th>\n",
       "      <th>square_ft</th>\n",
       "      <th>yearbuilt</th>\n",
       "      <th>fips</th>\n",
       "      <th>house_value</th>\n",
       "      <th>tax</th>\n",
       "    </tr>\n",
       "  </thead>\n",
       "  <tbody>\n",
       "    <tr>\n",
       "      <th>8365</th>\n",
       "      <td>3</td>\n",
       "      <td>2.0</td>\n",
       "      <td>1605</td>\n",
       "      <td>1983</td>\n",
       "      <td>6111.0</td>\n",
       "      <td>206483.0</td>\n",
       "      <td>2293.70</td>\n",
       "    </tr>\n",
       "    <tr>\n",
       "      <th>46472</th>\n",
       "      <td>2</td>\n",
       "      <td>1.0</td>\n",
       "      <td>1521</td>\n",
       "      <td>1970</td>\n",
       "      <td>6037.0</td>\n",
       "      <td>110048.0</td>\n",
       "      <td>1530.47</td>\n",
       "    </tr>\n",
       "    <tr>\n",
       "      <th>45202</th>\n",
       "      <td>3</td>\n",
       "      <td>2.0</td>\n",
       "      <td>1678</td>\n",
       "      <td>1956</td>\n",
       "      <td>6059.0</td>\n",
       "      <td>82423.0</td>\n",
       "      <td>1175.02</td>\n",
       "    </tr>\n",
       "    <tr>\n",
       "      <th>1123</th>\n",
       "      <td>3</td>\n",
       "      <td>1.5</td>\n",
       "      <td>1126</td>\n",
       "      <td>1955</td>\n",
       "      <td>6059.0</td>\n",
       "      <td>373151.0</td>\n",
       "      <td>4521.78</td>\n",
       "    </tr>\n",
       "    <tr>\n",
       "      <th>14047</th>\n",
       "      <td>4</td>\n",
       "      <td>6.0</td>\n",
       "      <td>5158</td>\n",
       "      <td>2002</td>\n",
       "      <td>6037.0</td>\n",
       "      <td>1430885.0</td>\n",
       "      <td>17415.28</td>\n",
       "    </tr>\n",
       "  </tbody>\n",
       "</table>\n",
       "</div>"
      ],
      "text/plain": [
       "       bedroom  bathroom  square_ft  yearbuilt    fips  house_value       tax\n",
       "8365         3       2.0       1605       1983  6111.0     206483.0   2293.70\n",
       "46472        2       1.0       1521       1970  6037.0     110048.0   1530.47\n",
       "45202        3       2.0       1678       1956  6059.0      82423.0   1175.02\n",
       "1123         3       1.5       1126       1955  6059.0     373151.0   4521.78\n",
       "14047        4       6.0       5158       2002  6037.0    1430885.0  17415.28"
      ]
     },
     "execution_count": 236,
     "metadata": {},
     "output_type": "execute_result"
    }
   ],
   "source": [
    "train.head()"
   ]
  },
  {
   "cell_type": "code",
   "execution_count": 239,
   "id": "4b9b8cb1",
   "metadata": {},
   "outputs": [],
   "source": [
    "x_train = train[['bedroom','bedroom','bathroom','square_ft','yearbuilt', 'fips']]\n",
    "y_train = train.house_value\n",
    "\n",
    "x_validate = validate[['bedroom','bedroom','bathroom','square_ft','yearbuilt', 'fips']]\n",
    "y_validate = validate.house_value\n",
    "\n",
    "x_test = test[['bedroom','bedroom','bathroom','square_ft','yearbuilt', 'fips']]\n",
    "y_test = test.house_value"
   ]
  },
  {
   "cell_type": "code",
   "execution_count": null,
   "id": "06c3a268",
   "metadata": {},
   "outputs": [],
   "source": [
    "# first we need to get dummies for fips\n",
    "\n",
    "train = pd.get_dummies(train, ['fips'])"
   ]
  },
  {
   "cell_type": "code",
   "execution_count": null,
   "id": "9eb88ae4",
   "metadata": {},
   "outputs": [],
   "source": []
  },
  {
   "cell_type": "code",
   "execution_count": null,
   "id": "6f3942cb",
   "metadata": {},
   "outputs": [],
   "source": []
  },
  {
   "cell_type": "code",
   "execution_count": null,
   "id": "59261d11",
   "metadata": {},
   "outputs": [],
   "source": []
  },
  {
   "cell_type": "code",
   "execution_count": null,
   "id": "96ae90b2",
   "metadata": {},
   "outputs": [],
   "source": []
  },
  {
   "cell_type": "code",
   "execution_count": 221,
   "id": "45655897",
   "metadata": {},
   "outputs": [],
   "source": [
    "# then scale the train set\n",
    "\n",
    "scaler = sklearn.preprocessing.MinMaxScaler()\n",
    "\n",
    "cols_to_scale = ['bedroom','bathroom','square_ft','yearbuilt']\n",
    "\n",
    "scaler.fit(train[cols_to_scale])\n",
    "\n",
    "train_scaled = scaler.transform(train[cols_to_scale])\n",
    "validate_scaled = scaler.transform(validate[cols_to_scale])\n",
    "test_scaled = scaler.transform(test[cols_to_scale])"
   ]
  },
  {
   "cell_type": "code",
   "execution_count": 226,
   "id": "8254d875",
   "metadata": {},
   "outputs": [
    {
     "data": {
      "text/html": [
       "<div>\n",
       "<style scoped>\n",
       "    .dataframe tbody tr th:only-of-type {\n",
       "        vertical-align: middle;\n",
       "    }\n",
       "\n",
       "    .dataframe tbody tr th {\n",
       "        vertical-align: top;\n",
       "    }\n",
       "\n",
       "    .dataframe thead th {\n",
       "        text-align: right;\n",
       "    }\n",
       "</style>\n",
       "<table border=\"1\" class=\"dataframe\">\n",
       "  <thead>\n",
       "    <tr style=\"text-align: right;\">\n",
       "      <th></th>\n",
       "      <th>bedroom_scaled</th>\n",
       "      <th>bathroom_scaled</th>\n",
       "      <th>square_ft_scaled</th>\n",
       "      <th>yearbuilt_scaled</th>\n",
       "    </tr>\n",
       "  </thead>\n",
       "  <tbody>\n",
       "    <tr>\n",
       "      <th>0</th>\n",
       "      <td>0.500000</td>\n",
       "      <td>0.333333</td>\n",
       "      <td>0.171689</td>\n",
       "      <td>0.760870</td>\n",
       "    </tr>\n",
       "    <tr>\n",
       "      <th>1</th>\n",
       "      <td>0.333333</td>\n",
       "      <td>0.166667</td>\n",
       "      <td>0.161763</td>\n",
       "      <td>0.666667</td>\n",
       "    </tr>\n",
       "    <tr>\n",
       "      <th>2</th>\n",
       "      <td>0.500000</td>\n",
       "      <td>0.333333</td>\n",
       "      <td>0.180314</td>\n",
       "      <td>0.565217</td>\n",
       "    </tr>\n",
       "    <tr>\n",
       "      <th>3</th>\n",
       "      <td>0.500000</td>\n",
       "      <td>0.250000</td>\n",
       "      <td>0.115089</td>\n",
       "      <td>0.557971</td>\n",
       "    </tr>\n",
       "    <tr>\n",
       "      <th>4</th>\n",
       "      <td>0.666667</td>\n",
       "      <td>1.000000</td>\n",
       "      <td>0.591516</td>\n",
       "      <td>0.898551</td>\n",
       "    </tr>\n",
       "  </tbody>\n",
       "</table>\n",
       "</div>"
      ],
      "text/plain": [
       "   bedroom_scaled  bathroom_scaled  square_ft_scaled  yearbuilt_scaled\n",
       "0        0.500000         0.333333          0.171689          0.760870\n",
       "1        0.333333         0.166667          0.161763          0.666667\n",
       "2        0.500000         0.333333          0.180314          0.565217\n",
       "3        0.500000         0.250000          0.115089          0.557971\n",
       "4        0.666667         1.000000          0.591516          0.898551"
      ]
     },
     "execution_count": 226,
     "metadata": {},
     "output_type": "execute_result"
    }
   ],
   "source": [
    "train_scaled = pd.DataFrame(train_scaled)\n",
    "train_scaled = train_scaled.rename(columns = {0 :'bedroom_scaled',1 :'bathroom_scaled', 2 : 'square_ft_scaled',\n",
    "                                             3 : 'yearbuilt_scaled'})\n",
    "train_scaled.head()"
   ]
  },
  {
   "cell_type": "code",
   "execution_count": 224,
   "id": "bd04a2ea",
   "metadata": {},
   "outputs": [
    {
     "ename": "AttributeError",
     "evalue": "'numpy.ndarray' object has no attribute 'set_index'",
     "output_type": "error",
     "traceback": [
      "\u001b[0;31m---------------------------------------------------------------------------\u001b[0m",
      "\u001b[0;31mAttributeError\u001b[0m                            Traceback (most recent call last)",
      "Input \u001b[0;32mIn [224]\u001b[0m, in \u001b[0;36m<cell line: 1>\u001b[0;34m()\u001b[0m\n\u001b[0;32m----> 1\u001b[0m train_scaled \u001b[38;5;241m=\u001b[39m \u001b[43mtrain_scaled\u001b[49m\u001b[38;5;241;43m.\u001b[39;49m\u001b[43mset_index\u001b[49m([train\u001b[38;5;241m.\u001b[39mindex\u001b[38;5;241m.\u001b[39mvalues])\n",
      "\u001b[0;31mAttributeError\u001b[0m: 'numpy.ndarray' object has no attribute 'set_index'"
     ]
    }
   ],
   "source": [
    "train_scaled = train_scaled.set_index([train.index.values])"
   ]
  },
  {
   "cell_type": "code",
   "execution_count": 235,
   "id": "42cd1052",
   "metadata": {},
   "outputs": [
    {
     "name": "stdout",
     "output_type": "stream",
     "text": [
      "<class 'pandas.core.frame.DataFrame'>\n",
      "Int64Index: 28441 entries, 8365 to 46891\n",
      "Data columns (total 7 columns):\n",
      " #   Column       Non-Null Count  Dtype  \n",
      "---  ------       --------------  -----  \n",
      " 0   bedroom      28441 non-null  int64  \n",
      " 1   bathroom     28441 non-null  float64\n",
      " 2   square_ft    28441 non-null  int64  \n",
      " 3   yearbuilt    28441 non-null  int64  \n",
      " 4   fips         28441 non-null  object \n",
      " 5   house_value  28441 non-null  float64\n",
      " 6   tax          28441 non-null  float64\n",
      "dtypes: float64(3), int64(3), object(1)\n",
      "memory usage: 1.7+ MB\n"
     ]
    }
   ],
   "source": [
    "train.info()"
   ]
  },
  {
   "cell_type": "code",
   "execution_count": null,
   "id": "ee6f7cd2",
   "metadata": {},
   "outputs": [],
   "source": []
  },
  {
   "cell_type": "code",
   "execution_count": null,
   "id": "a5501b54",
   "metadata": {},
   "outputs": [],
   "source": []
  },
  {
   "cell_type": "code",
   "execution_count": null,
   "id": "08258f98",
   "metadata": {},
   "outputs": [],
   "source": []
  }
 ],
 "metadata": {
  "kernelspec": {
   "display_name": "Python 3 (ipykernel)",
   "language": "python",
   "name": "python3"
  },
  "language_info": {
   "codemirror_mode": {
    "name": "ipython",
    "version": 3
   },
   "file_extension": ".py",
   "mimetype": "text/x-python",
   "name": "python",
   "nbconvert_exporter": "python",
   "pygments_lexer": "ipython3",
   "version": "3.9.12"
  }
 },
 "nbformat": 4,
 "nbformat_minor": 5
}
