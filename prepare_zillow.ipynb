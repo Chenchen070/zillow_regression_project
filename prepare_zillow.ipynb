{
 "cells": [
  {
   "cell_type": "code",
   "execution_count": 30,
   "id": "944dfc96",
   "metadata": {},
   "outputs": [],
   "source": [
    "import acquire_zillow\n",
    "import pandas as pd\n",
    "import numpy as np\n",
    "from sklearn.model_selection import train_test_split\n",
    "import math\n",
    "import warnings\n",
    "warnings.filterwarnings(\"ignore\")"
   ]
  },
  {
   "cell_type": "code",
   "execution_count": 2,
   "id": "837e6ad5",
   "metadata": {},
   "outputs": [
    {
     "name": "stdout",
     "output_type": "stream",
     "text": [
      "<class 'pandas.core.frame.DataFrame'>\n",
      "RangeIndex: 52441 entries, 0 to 52440\n",
      "Data columns (total 7 columns):\n",
      " #   Column       Non-Null Count  Dtype  \n",
      "---  ------       --------------  -----  \n",
      " 0   bedroom      52441 non-null  float64\n",
      " 1   bathroom     52441 non-null  float64\n",
      " 2   square_ft    52359 non-null  float64\n",
      " 3   yearbuilt    52325 non-null  float64\n",
      " 4   fips         52441 non-null  float64\n",
      " 5   house_value  52440 non-null  float64\n",
      " 6   tax          52437 non-null  float64\n",
      "dtypes: float64(7)\n",
      "memory usage: 2.8 MB\n"
     ]
    }
   ],
   "source": [
    "raw_data = acquire_zillow.get_new_zillow_data()\n",
    "df = raw_data.copy()\n",
    "df.info()"
   ]
  },
  {
   "cell_type": "code",
   "execution_count": 3,
   "id": "66af0bcd",
   "metadata": {},
   "outputs": [
    {
     "data": {
      "text/html": [
       "<div>\n",
       "<style scoped>\n",
       "    .dataframe tbody tr th:only-of-type {\n",
       "        vertical-align: middle;\n",
       "    }\n",
       "\n",
       "    .dataframe tbody tr th {\n",
       "        vertical-align: top;\n",
       "    }\n",
       "\n",
       "    .dataframe thead th {\n",
       "        text-align: right;\n",
       "    }\n",
       "</style>\n",
       "<table border=\"1\" class=\"dataframe\">\n",
       "  <thead>\n",
       "    <tr style=\"text-align: right;\">\n",
       "      <th></th>\n",
       "      <th>bedroom</th>\n",
       "      <th>bathroom</th>\n",
       "      <th>square_ft</th>\n",
       "      <th>yearbuilt</th>\n",
       "      <th>fips</th>\n",
       "      <th>house_value</th>\n",
       "      <th>tax</th>\n",
       "    </tr>\n",
       "  </thead>\n",
       "  <tbody>\n",
       "    <tr>\n",
       "      <th>0</th>\n",
       "      <td>4.0</td>\n",
       "      <td>3.5</td>\n",
       "      <td>3100.0</td>\n",
       "      <td>1998.0</td>\n",
       "      <td>6059.0</td>\n",
       "      <td>1023282.0</td>\n",
       "      <td>11013.72</td>\n",
       "    </tr>\n",
       "    <tr>\n",
       "      <th>1</th>\n",
       "      <td>2.0</td>\n",
       "      <td>1.0</td>\n",
       "      <td>1465.0</td>\n",
       "      <td>1967.0</td>\n",
       "      <td>6111.0</td>\n",
       "      <td>464000.0</td>\n",
       "      <td>5672.48</td>\n",
       "    </tr>\n",
       "    <tr>\n",
       "      <th>2</th>\n",
       "      <td>3.0</td>\n",
       "      <td>2.0</td>\n",
       "      <td>1243.0</td>\n",
       "      <td>1962.0</td>\n",
       "      <td>6059.0</td>\n",
       "      <td>564778.0</td>\n",
       "      <td>6488.30</td>\n",
       "    </tr>\n",
       "    <tr>\n",
       "      <th>3</th>\n",
       "      <td>4.0</td>\n",
       "      <td>3.0</td>\n",
       "      <td>2376.0</td>\n",
       "      <td>1970.0</td>\n",
       "      <td>6037.0</td>\n",
       "      <td>145143.0</td>\n",
       "      <td>1777.51</td>\n",
       "    </tr>\n",
       "    <tr>\n",
       "      <th>4</th>\n",
       "      <td>4.0</td>\n",
       "      <td>3.0</td>\n",
       "      <td>2962.0</td>\n",
       "      <td>1950.0</td>\n",
       "      <td>6037.0</td>\n",
       "      <td>773303.0</td>\n",
       "      <td>9516.26</td>\n",
       "    </tr>\n",
       "  </tbody>\n",
       "</table>\n",
       "</div>"
      ],
      "text/plain": [
       "   bedroom  bathroom  square_ft  yearbuilt    fips  house_value       tax\n",
       "0      4.0       3.5     3100.0     1998.0  6059.0    1023282.0  11013.72\n",
       "1      2.0       1.0     1465.0     1967.0  6111.0     464000.0   5672.48\n",
       "2      3.0       2.0     1243.0     1962.0  6059.0     564778.0   6488.30\n",
       "3      4.0       3.0     2376.0     1970.0  6037.0     145143.0   1777.51\n",
       "4      4.0       3.0     2962.0     1950.0  6037.0     773303.0   9516.26"
      ]
     },
     "execution_count": 3,
     "metadata": {},
     "output_type": "execute_result"
    }
   ],
   "source": [
    "df.head()"
   ]
  },
  {
   "cell_type": "markdown",
   "id": "f7c33025",
   "metadata": {},
   "source": [
    "##  Data clean up\n",
    "\n",
    "### handle missing values"
   ]
  },
  {
   "cell_type": "code",
   "execution_count": 4,
   "id": "873640b0",
   "metadata": {},
   "outputs": [
    {
     "data": {
      "text/plain": [
       "bedroom          0\n",
       "bathroom         0\n",
       "square_ft       82\n",
       "yearbuilt      116\n",
       "fips             0\n",
       "house_value      1\n",
       "tax              4\n",
       "dtype: int64"
      ]
     },
     "execution_count": 4,
     "metadata": {},
     "output_type": "execute_result"
    }
   ],
   "source": [
    "# find out the null values\n",
    "\n",
    "df.isnull().sum()"
   ]
  },
  {
   "cell_type": "code",
   "execution_count": 5,
   "id": "47cf9133",
   "metadata": {},
   "outputs": [
    {
     "data": {
      "text/plain": [
       "0.0038710169523845845"
      ]
     },
     "execution_count": 5,
     "metadata": {},
     "output_type": "execute_result"
    }
   ],
   "source": [
    "(82+116+1+4)/52441"
   ]
  },
  {
   "cell_type": "code",
   "execution_count": 6,
   "id": "1695953b",
   "metadata": {},
   "outputs": [
    {
     "data": {
      "text/plain": [
       "(52315, 7)"
      ]
     },
     "execution_count": 6,
     "metadata": {},
     "output_type": "execute_result"
    }
   ],
   "source": [
    "# since the null value is only 0.4%, so I will just drop those rows.\n",
    "\n",
    "df = df.dropna()\n",
    "df.shape"
   ]
  },
  {
   "cell_type": "code",
   "execution_count": 7,
   "id": "3508306b",
   "metadata": {},
   "outputs": [
    {
     "data": {
      "text/plain": [
       "bedroom        0\n",
       "bathroom       0\n",
       "square_ft      0\n",
       "yearbuilt      0\n",
       "fips           0\n",
       "house_value    0\n",
       "tax            0\n",
       "dtype: int64"
      ]
     },
     "execution_count": 7,
     "metadata": {},
     "output_type": "execute_result"
    }
   ],
   "source": [
    "# check null again\n",
    "\n",
    "df.isnull().sum()"
   ]
  },
  {
   "cell_type": "markdown",
   "id": "f62f7b90",
   "metadata": {},
   "source": [
    "### convert data type"
   ]
  },
  {
   "cell_type": "code",
   "execution_count": 8,
   "id": "f3fe5ab0",
   "metadata": {},
   "outputs": [
    {
     "data": {
      "text/plain": [
       "1.0"
      ]
     },
     "execution_count": 8,
     "metadata": {},
     "output_type": "execute_result"
    }
   ],
   "source": [
    "# 100% of columns can be converted to int w/o data loss\n",
    "(df.square_ft == df.square_ft.astype(int)).mean()"
   ]
  },
  {
   "cell_type": "code",
   "execution_count": 9,
   "id": "9255dd11",
   "metadata": {},
   "outputs": [
    {
     "data": {
      "text/plain": [
       "1.0"
      ]
     },
     "execution_count": 9,
     "metadata": {},
     "output_type": "execute_result"
    }
   ],
   "source": [
    "(df.bedroom == df.bedroom.astype(int)).mean()"
   ]
  },
  {
   "cell_type": "code",
   "execution_count": 10,
   "id": "2878c86a",
   "metadata": {},
   "outputs": [
    {
     "data": {
      "text/plain": [
       "0.8727898308324572"
      ]
     },
     "execution_count": 10,
     "metadata": {},
     "output_type": "execute_result"
    }
   ],
   "source": [
    "(df.bathroom == df.bathroom.astype(int)).mean()"
   ]
  },
  {
   "cell_type": "code",
   "execution_count": 11,
   "id": "9e971c66",
   "metadata": {},
   "outputs": [],
   "source": [
    "# convert bedroom yearbuilt, square_ft and fips into int\n",
    "\n",
    "df[['bedroom', 'square_ft','yearbuilt', 'fips']] = df[['bedroom', 'square_ft','yearbuilt', 'fips']].astype('int')"
   ]
  },
  {
   "cell_type": "code",
   "execution_count": 12,
   "id": "d9418508",
   "metadata": {},
   "outputs": [
    {
     "name": "stdout",
     "output_type": "stream",
     "text": [
      "<class 'pandas.core.frame.DataFrame'>\n",
      "Int64Index: 52315 entries, 0 to 52440\n",
      "Data columns (total 7 columns):\n",
      " #   Column       Non-Null Count  Dtype  \n",
      "---  ------       --------------  -----  \n",
      " 0   bedroom      52315 non-null  int64  \n",
      " 1   bathroom     52315 non-null  float64\n",
      " 2   square_ft    52315 non-null  int64  \n",
      " 3   yearbuilt    52315 non-null  int64  \n",
      " 4   fips         52315 non-null  int64  \n",
      " 5   house_value  52315 non-null  float64\n",
      " 6   tax          52315 non-null  float64\n",
      "dtypes: float64(3), int64(4)\n",
      "memory usage: 3.2 MB\n"
     ]
    }
   ],
   "source": [
    "df.info()"
   ]
  },
  {
   "cell_type": "markdown",
   "id": "1d2b1d84",
   "metadata": {},
   "source": [
    "### handling outlies, here I want to focus on the majority of data"
   ]
  },
  {
   "cell_type": "code",
   "execution_count": 13,
   "id": "100aecd3",
   "metadata": {},
   "outputs": [
    {
     "data": {
      "text/plain": [
       "3     23346\n",
       "4     15226\n",
       "2      8333\n",
       "5      3970\n",
       "6       633\n",
       "1       605\n",
       "7       106\n",
       "0        57\n",
       "8        24\n",
       "9         8\n",
       "12        3\n",
       "10        2\n",
       "14        1\n",
       "11        1\n",
       "Name: bedroom, dtype: int64"
      ]
     },
     "execution_count": 13,
     "metadata": {},
     "output_type": "execute_result"
    }
   ],
   "source": [
    "df.bedroom.value_counts()"
   ]
  },
  {
   "cell_type": "code",
   "execution_count": 14,
   "id": "2b5bea76",
   "metadata": {},
   "outputs": [
    {
     "data": {
      "text/plain": [
       "0.9972283283952977"
      ]
     },
     "execution_count": 14,
     "metadata": {},
     "output_type": "execute_result"
    }
   ],
   "source": [
    "df[df.bedroom <= 6].shape[0] / df.shape[0]"
   ]
  },
  {
   "cell_type": "code",
   "execution_count": 15,
   "id": "8961fe7f",
   "metadata": {},
   "outputs": [
    {
     "data": {
      "text/plain": [
       "2.0     21887\n",
       "3.0     10664\n",
       "1.0      9552\n",
       "2.5      3931\n",
       "4.0      2227\n",
       "3.5       913\n",
       "1.5       840\n",
       "5.0       803\n",
       "4.5       682\n",
       "6.0       322\n",
       "5.5       224\n",
       "7.0        88\n",
       "8.0        53\n",
       "6.5        47\n",
       "0.0        41\n",
       "7.5        16\n",
       "9.0        13\n",
       "10.0        5\n",
       "11.0        3\n",
       "8.5         2\n",
       "18.0        1\n",
       "13.0        1\n",
       "Name: bathroom, dtype: int64"
      ]
     },
     "execution_count": 15,
     "metadata": {},
     "output_type": "execute_result"
    }
   ],
   "source": [
    "df.bathroom.value_counts()"
   ]
  },
  {
   "cell_type": "code",
   "execution_count": 16,
   "id": "5495e2e8",
   "metadata": {},
   "outputs": [
    {
     "data": {
      "text/plain": [
       "0.9956226703622288"
      ]
     },
     "execution_count": 16,
     "metadata": {},
     "output_type": "execute_result"
    }
   ],
   "source": [
    "df[df.bathroom <= 6].shape[0] / df.shape[0]"
   ]
  },
  {
   "cell_type": "code",
   "execution_count": 17,
   "id": "968d4e93",
   "metadata": {},
   "outputs": [
    {
     "data": {
      "text/plain": [
       "0.9737360221733729"
      ]
     },
     "execution_count": 17,
     "metadata": {},
     "output_type": "execute_result"
    }
   ],
   "source": [
    "df[df.house_value < 2000000].shape[0] / df.shape[0]"
   ]
  },
  {
   "cell_type": "code",
   "execution_count": 18,
   "id": "4e3f724c",
   "metadata": {},
   "outputs": [
    {
     "data": {
      "text/plain": [
       "(52315, 7)"
      ]
     },
     "execution_count": 18,
     "metadata": {},
     "output_type": "execute_result"
    }
   ],
   "source": [
    "df.shape"
   ]
  },
  {
   "cell_type": "code",
   "execution_count": 19,
   "id": "04660aee",
   "metadata": {},
   "outputs": [],
   "source": [
    "# set up the cutt off line for the data, drop the outlies: square_ft > 6000, bathroom > 6 and bedroom > 6\n",
    "\n",
    "df = df[df.bedroom <= 6]\n",
    "\n",
    "df = df[df.bathroom <= 6]\n",
    "\n",
    "df = df[df.house_value < 2000000]"
   ]
  },
  {
   "cell_type": "code",
   "execution_count": 33,
   "id": "7750221c",
   "metadata": {},
   "outputs": [
    {
     "data": {
      "text/plain": [
       "(50789, 7)"
      ]
     },
     "execution_count": 33,
     "metadata": {},
     "output_type": "execute_result"
    }
   ],
   "source": [
    "df.shape"
   ]
  },
  {
   "cell_type": "code",
   "execution_count": 34,
   "id": "6ebc61d7",
   "metadata": {},
   "outputs": [
    {
     "data": {
      "text/html": [
       "<div>\n",
       "<style scoped>\n",
       "    .dataframe tbody tr th:only-of-type {\n",
       "        vertical-align: middle;\n",
       "    }\n",
       "\n",
       "    .dataframe tbody tr th {\n",
       "        vertical-align: top;\n",
       "    }\n",
       "\n",
       "    .dataframe thead th {\n",
       "        text-align: right;\n",
       "    }\n",
       "</style>\n",
       "<table border=\"1\" class=\"dataframe\">\n",
       "  <thead>\n",
       "    <tr style=\"text-align: right;\">\n",
       "      <th></th>\n",
       "      <th>bedroom</th>\n",
       "      <th>bathroom</th>\n",
       "      <th>square_ft</th>\n",
       "      <th>yearbuilt</th>\n",
       "      <th>fips</th>\n",
       "      <th>house_value</th>\n",
       "      <th>tax</th>\n",
       "    </tr>\n",
       "  </thead>\n",
       "  <tbody>\n",
       "    <tr>\n",
       "      <th>0</th>\n",
       "      <td>4</td>\n",
       "      <td>3.5</td>\n",
       "      <td>3100</td>\n",
       "      <td>1998</td>\n",
       "      <td>6059</td>\n",
       "      <td>1023282.0</td>\n",
       "      <td>11013.72</td>\n",
       "    </tr>\n",
       "    <tr>\n",
       "      <th>1</th>\n",
       "      <td>2</td>\n",
       "      <td>1.0</td>\n",
       "      <td>1465</td>\n",
       "      <td>1967</td>\n",
       "      <td>6111</td>\n",
       "      <td>464000.0</td>\n",
       "      <td>5672.48</td>\n",
       "    </tr>\n",
       "    <tr>\n",
       "      <th>2</th>\n",
       "      <td>3</td>\n",
       "      <td>2.0</td>\n",
       "      <td>1243</td>\n",
       "      <td>1962</td>\n",
       "      <td>6059</td>\n",
       "      <td>564778.0</td>\n",
       "      <td>6488.30</td>\n",
       "    </tr>\n",
       "    <tr>\n",
       "      <th>3</th>\n",
       "      <td>4</td>\n",
       "      <td>3.0</td>\n",
       "      <td>2376</td>\n",
       "      <td>1970</td>\n",
       "      <td>6037</td>\n",
       "      <td>145143.0</td>\n",
       "      <td>1777.51</td>\n",
       "    </tr>\n",
       "    <tr>\n",
       "      <th>4</th>\n",
       "      <td>4</td>\n",
       "      <td>3.0</td>\n",
       "      <td>2962</td>\n",
       "      <td>1950</td>\n",
       "      <td>6037</td>\n",
       "      <td>773303.0</td>\n",
       "      <td>9516.26</td>\n",
       "    </tr>\n",
       "  </tbody>\n",
       "</table>\n",
       "</div>"
      ],
      "text/plain": [
       "   bedroom  bathroom  square_ft  yearbuilt  fips  house_value       tax\n",
       "0        4       3.5       3100       1998  6059    1023282.0  11013.72\n",
       "1        2       1.0       1465       1967  6111     464000.0   5672.48\n",
       "2        3       2.0       1243       1962  6059     564778.0   6488.30\n",
       "3        4       3.0       2376       1970  6037     145143.0   1777.51\n",
       "4        4       3.0       2962       1950  6037     773303.0   9516.26"
      ]
     },
     "execution_count": 34,
     "metadata": {},
     "output_type": "execute_result"
    }
   ],
   "source": [
    "df.head()"
   ]
  },
  {
   "cell_type": "code",
   "execution_count": 20,
   "id": "ed4ca3d1",
   "metadata": {
    "scrolled": true
   },
   "outputs": [
    {
     "name": "stdout",
     "output_type": "stream",
     "text": [
      "bedroom\n"
     ]
    },
    {
     "data": {
      "image/png": "[encoded data removed]",
      "text/plain": [
       "<Figure size 432x288 with 1 Axes>"
      ]
     },
     "metadata": {
      "needs_background": "light"
     },
     "output_type": "display_data"
    },
    {
     "name": "stdout",
     "output_type": "stream",
     "text": [
      "bathroom\n"
     ]
    },
    {
     "data": {
      "image/png": "[encoded data removed]",
      "text/plain": [
       "<Figure size 432x288 with 1 Axes>"
      ]
     },
     "metadata": {
      "needs_background": "light"
     },
     "output_type": "display_data"
    },
    {
     "name": "stdout",
     "output_type": "stream",
     "text": [
      "square_ft\n"
     ]
    },
    {
     "data": {
      "image/png": "[encoded data removed]",
      "text/plain": [
       "<Figure size 432x288 with 1 Axes>"
      ]
     },
     "metadata": {
      "needs_background": "light"
     },
     "output_type": "display_data"
    },
    {
     "name": "stdout",
     "output_type": "stream",
     "text": [
      "yearbuilt\n"
     ]
    },
    {
     "data": {
      "image/png": "[encoded data removed]",
      "text/plain": [
       "<Figure size 432x288 with 1 Axes>"
      ]
     },
     "metadata": {
      "needs_background": "light"
     },
     "output_type": "display_data"
    },
    {
     "name": "stdout",
     "output_type": "stream",
     "text": [
      "fips\n"
     ]
    },
    {
     "data": {
      "image/png": "[encoded data removed]",
      "text/plain": [
       "<Figure size 432x288 with 1 Axes>"
      ]
     },
     "metadata": {
      "needs_background": "light"
     },
     "output_type": "display_data"
    },
    {
     "name": "stdout",
     "output_type": "stream",
     "text": [
      "house_value\n"
     ]
    },
    {
     "data": {
      "image/png": "[encoded data removed]",
      "text/plain": [
       "<Figure size 432x288 with 1 Axes>"
      ]
     },
     "metadata": {
      "needs_background": "light"
     },
     "output_type": "display_data"
    },
    {
     "name": "stdout",
     "output_type": "stream",
     "text": [
      "tax\n"
     ]
    },
    {
     "data": {
      "image/png": "[encoded data removed]",
      "text/plain": [
       "<Figure size 432x288 with 1 Axes>"
      ]
     },
     "metadata": {
      "needs_background": "light"
     },
     "output_type": "display_data"
    }
   ],
   "source": [
    "import seaborn as sns\n",
    "import matplotlib.pyplot as plt\n",
    "\n",
    "for col in df.columns:\n",
    "    print(col)\n",
    "    df[col].hist(bins=50)\n",
    "    plt.show()"
   ]
  },
  {
   "cell_type": "code",
   "execution_count": 57,
   "id": "241bcdfd",
   "metadata": {},
   "outputs": [],
   "source": [
    "# ceate a function to combine all the data clean up steps\n",
    "\n",
    "def clean_zillow(df):\n",
    "    df = df.dropna()\n",
    "    df[['bedroom', 'square_ft','yearbuilt', 'fips']] = df[['bedroom', 'square_ft','yearbuilt', 'fips']].astype('int')\n",
    "    \n",
    "    df = df[df.bedroom <= 6]\n",
    "    df = df[df.bathroom <= 6]\n",
    "    df = df[df.house_value < 2000000]\n",
    "    \n",
    "    return df"
   ]
  },
  {
   "cell_type": "markdown",
   "id": "22f89c22",
   "metadata": {},
   "source": [
    "## split data"
   ]
  },
  {
   "cell_type": "code",
   "execution_count": 58,
   "id": "1f980710",
   "metadata": {},
   "outputs": [
    {
     "name": "stdout",
     "output_type": "stream",
     "text": [
      "(28441, 7)\n",
      "(12190, 7)\n",
      "(10158, 7)\n"
     ]
    }
   ],
   "source": [
    "# split data into train 56%, validate 24% and test 20%\n",
    "\n",
    "train_and_validate, test = train_test_split(df, test_size=0.2, random_state=123)\n",
    "train, validate = train_test_split(train_and_validate, test_size=0.3, random_state=123)\n",
    "\n",
    "print(train.shape)\n",
    "print(validate.shape)\n",
    "print(test.shape)"
   ]
  },
  {
   "cell_type": "code",
   "execution_count": 72,
   "id": "30f0d1b5",
   "metadata": {},
   "outputs": [],
   "source": [
    "# write a function of splitting zillow data\n",
    "\n",
    "def split_zillow(df):\n",
    "    \n",
    "    train_and_validate, test = train_test_split(df, test_size=0.2, random_state=123)\n",
    "    train, validate = train_test_split(train_and_validate, test_size=0.3, random_state=123)\n",
    "    \n",
    "    return train, validate, test"
   ]
  },
  {
   "cell_type": "code",
   "execution_count": 77,
   "id": "827cfd97",
   "metadata": {},
   "outputs": [],
   "source": [
    "# function of preparing zillow data that include clean data and split data\n",
    "\n",
    "def prep_zillow(df):\n",
    "    df = clean_zillow(df)\n",
    "    train, validate, test = split_zillow(df)\n",
    "    \n",
    "    return train, validate, test"
   ]
  },
  {
   "cell_type": "code",
   "execution_count": null,
   "id": "ffa23645",
   "metadata": {},
   "outputs": [],
   "source": []
  },
  {
   "cell_type": "code",
   "execution_count": null,
   "id": "7be20525",
   "metadata": {},
   "outputs": [],
   "source": []
  },
  {
   "cell_type": "code",
   "execution_count": null,
   "id": "592c68a9",
   "metadata": {},
   "outputs": [],
   "source": []
  }
 ],
 "metadata": {
  "kernelspec": {
   "display_name": "Python 3 (ipykernel)",
   "language": "python",
   "name": "python3"
  },
  "language_info": {
   "codemirror_mode": {
    "name": "ipython",
    "version": 3
   },
   "file_extension": ".py",
   "mimetype": "text/x-python",
   "name": "python",
   "nbconvert_exporter": "python",
   "pygments_lexer": "ipython3",
   "version": "3.9.12"
  }
 },
 "nbformat": 4,
 "nbformat_minor": 5
}
